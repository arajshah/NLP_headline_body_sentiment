{
 "cells": [
  {
   "cell_type": "code",
   "execution_count": 6,
   "id": "c4985a6d",
   "metadata": {},
   "outputs": [],
   "source": [
    "import pandas as pd\n",
    "URL_CSV = \"../data/GVFC_extension_multimodal.csv\"\n",
    "df_urls = pd.read_csv(URL_CSV, usecols=[\"id\", \"article_url\", \"headline\"])\n",
    "\n",
    "# list of dicts\n",
    "URLS = df_urls.to_dict(\"records\")\n"
   ]
  },
  {
   "cell_type": "code",
   "execution_count": 7,
   "id": "d50df790",
   "metadata": {},
   "outputs": [],
   "source": [
    "import aiohttp, asyncio, async_timeout, random, os, aiofiles, trafilatura\n",
    "from tqdm.asyncio import tqdm_asyncio\n",
    "from newspaper import Article as NPArticle\n",
    "import requests    \n",
    "\n",
    "UA = \"Mozilla/5.0 (ResearchProject/2.0 +https://your‑email)\"\n",
    "HEADERS = {\"User-Agent\": UA}\n",
    "SAVE_HTML = \"../data/raw_html/{id}.html\"\n",
    "SAVE_TXT  = \"../data/full_text/{id}.txt\"\n",
    "LOG_CSV   = \"../data/scrape_log.csv\""
   ]
  },
  {
   "cell_type": "code",
   "execution_count": 8,
   "id": "c8d45cbb",
   "metadata": {},
   "outputs": [],
   "source": [
    "async def fetch_html(session, url, timeout=15):      # ←★ FIXED (no async_timeout)\n",
    "    try:\n",
    "        async with session.get(url, headers=HEADERS, timeout=timeout) as r:\n",
    "            if r.status != 200:\n",
    "                return None, r.status\n",
    "            return await r.text(), r.status\n",
    "    except Exception as e:\n",
    "        print(f\"Error fetching {url}: {e}\")\n",
    "        return None, str(e)\n",
    "\n",
    "def make_amp_variants(url):                          # ←★ NEW\n",
    "    url = url.rstrip(\"/\")\n",
    "    yield url + \"/amp\"\n",
    "    yield url + \"/amp.html\"\n",
    "    if \"://www.\" in url:\n",
    "        yield url.replace(\"://www.\", \"://m.\")\n",
    "        yield url.replace(\"://www.\", \"://amp.\")\n",
    "\n",
    "def good(txt, min_words=100):                        # ←★ NEW\n",
    "    return isinstance(txt, str) and len(txt.split()) >= min_words\n",
    "\n",
    "def try_extract(html, url):\n",
    "    \"\"\"Run trafilatura then newspaper3k; return text or None.\"\"\"\n",
    "    txt = trafilatura.extract(html, url=url, include_comments=False)\n",
    "    if good(txt):\n",
    "        return txt\n",
    "    art = NPArticle(url)\n",
    "    art.set_html(html)\n",
    "    try:\n",
    "        art.parse()\n",
    "        return art.text if good(art.text) else None\n",
    "    except Exception:\n",
    "        return None"
   ]
  },
  {
   "cell_type": "code",
   "execution_count": 9,
   "id": "772f9d0e",
   "metadata": {},
   "outputs": [
    {
     "name": "stderr",
     "output_type": "stream",
     "text": [
      "  1%|          | 11/1300 [00:25<41:41,  1.94s/it] "
     ]
    },
    {
     "name": "stdout",
     "output_type": "stream",
     "text": [
      "Error fetching https://amp.nytimes.com/2018/02/16/us/politics/fact-check-parkland-gun-violence-mental-illness.html?partner=rss&emc=rss: Cannot connect to host amp.nytimes.com:443 ssl:default [nodename nor servname provided, or not known]\n"
     ]
    },
    {
     "name": "stderr",
     "output_type": "stream",
     "text": [
      "  3%|▎         | 36/1300 [01:22<46:13,  2.19s/it]  "
     ]
    },
    {
     "name": "stdout",
     "output_type": "stream",
     "text": [
      "Error fetching https://amp.nytimes.com/2018/08/04/us/parkland-florida-nikolas-cruz.html: Cannot connect to host amp.nytimes.com:443 ssl:default [nodename nor servname provided, or not known]\n"
     ]
    },
    {
     "name": "stderr",
     "output_type": "stream",
     "text": [
      "  5%|▍         | 59/1300 [02:05<54:19,  2.63s/it]"
     ]
    },
    {
     "name": "stdout",
     "output_type": "stream",
     "text": [
      "Error fetching https://amp.nytimes.com/2018/10/25/us/man-attacks-woman-racism.html?partner=rss&emc=rss: Cannot connect to host amp.nytimes.com:443 ssl:default [nodename nor servname provided, or not known]\n"
     ]
    },
    {
     "name": "stderr",
     "output_type": "stream",
     "text": [
      "  6%|▌         | 80/1300 [02:46<48:51,  2.40s/it]"
     ]
    },
    {
     "name": "stdout",
     "output_type": "stream",
     "text": [
      "Error fetching http://amp.nytimes.com/2018/11/13/us/lost-black-boy-michigan-sentence.html: Cannot connect to host amp.nytimes.com:80 ssl:default [nodename nor servname provided, or not known]\n"
     ]
    },
    {
     "name": "stderr",
     "output_type": "stream",
     "text": [
      "  6%|▋         | 83/1300 [02:52<37:59,  1.87s/it]"
     ]
    },
    {
     "name": "stdout",
     "output_type": "stream",
     "text": [
      "Error fetching http://amp.nytimes.com/2018/11/15/us/kroger-shooting-charges-louisville.html: Cannot connect to host amp.nytimes.com:80 ssl:default [nodename nor servname provided, or not known]\n"
     ]
    },
    {
     "name": "stderr",
     "output_type": "stream",
     "text": [
      "  9%|▊         | 112/1300 [03:42<30:33,  1.54s/it]"
     ]
    },
    {
     "name": "stdout",
     "output_type": "stream",
     "text": [
      "Error fetching https://m.politico.com/story/2018/08/07/school-shootings-teachers-guns-726693: \n"
     ]
    },
    {
     "name": "stderr",
     "output_type": "stream",
     "text": [
      "  9%|▉         | 114/1300 [04:02<1:44:45,  5.30s/it]"
     ]
    },
    {
     "name": "stdout",
     "output_type": "stream",
     "text": [
      "Error fetching https://amp.nytimes.com/2018/03/25/business/remington-bankruptcy-guns.html: Cannot connect to host amp.nytimes.com:443 ssl:default [nodename nor servname provided, or not known]\n"
     ]
    },
    {
     "name": "stderr",
     "output_type": "stream",
     "text": [
      "  9%|▉         | 115/1300 [04:04<1:20:54,  4.10s/it]"
     ]
    },
    {
     "name": "stdout",
     "output_type": "stream",
     "text": [
      "Error fetching https://amp.nytimes.com/2018/02/17/us/prominent-republican-donor-issues-ultimatum-on-assault-weapons.html?partner=rss&emc=rss: Cannot connect to host amp.nytimes.com:443 ssl:default [nodename nor servname provided, or not known]\n"
     ]
    },
    {
     "name": "stderr",
     "output_type": "stream",
     "text": [
      "  9%|▉         | 118/1300 [04:08<47:00,  2.39s/it]  "
     ]
    },
    {
     "name": "stdout",
     "output_type": "stream",
     "text": [
      "Error fetching https://amp.nytimes.com/2018/03/30/us/politics/second-amendment-explained.html?partner=rss&emc=rss: Cannot connect to host amp.nytimes.com:443 ssl:default [nodename nor servname provided, or not known]\n"
     ]
    },
    {
     "name": "stderr",
     "output_type": "stream",
     "text": [
      " 12%|█▏        | 154/1300 [05:28<52:39,  2.76s/it]  "
     ]
    },
    {
     "name": "stdout",
     "output_type": "stream",
     "text": [
      "Error fetching https://amp.nytimes.com/2018/03/24/us/politics/students-lead-huge-rallies-for-gun-control-across-the-us.html: Cannot connect to host amp.nytimes.com:443 ssl:default [nodename nor servname provided, or not known]\n"
     ]
    },
    {
     "name": "stderr",
     "output_type": "stream",
     "text": [
      " 12%|█▏        | 156/1300 [05:32<41:14,  2.16s/it]"
     ]
    },
    {
     "name": "stdout",
     "output_type": "stream",
     "text": [
      "Error fetching https://amp.nytimes.com/2018/04/09/nyregion/new-york-today-survivors-of-gun-violence-nyc.html: Cannot connect to host amp.nytimes.com:443 ssl:default [nodename nor servname provided, or not known]\n"
     ]
    },
    {
     "name": "stderr",
     "output_type": "stream",
     "text": [
      " 12%|█▏        | 157/1300 [05:33<36:13,  1.90s/it]"
     ]
    },
    {
     "name": "stdout",
     "output_type": "stream",
     "text": [
      "Error fetching https://amp.nytimes.com/2018/02/16/us/survive-active-shooter.html: Cannot connect to host amp.nytimes.com:443 ssl:default [nodename nor servname provided, or not known]\n"
     ]
    },
    {
     "name": "stderr",
     "output_type": "stream",
     "text": [
      " 12%|█▏        | 158/1300 [05:34<31:59,  1.68s/it]"
     ]
    },
    {
     "name": "stdout",
     "output_type": "stream",
     "text": [
      "Error fetching https://amp.nytimes.com/2018/02/18/us/school-shooting-parents.html: Cannot connect to host amp.nytimes.com:443 ssl:default [nodename nor servname provided, or not known]\n"
     ]
    },
    {
     "name": "stderr",
     "output_type": "stream",
     "text": [
      " 12%|█▏        | 160/1300 [05:39<43:13,  2.28s/it]"
     ]
    },
    {
     "name": "stdout",
     "output_type": "stream",
     "text": [
      "Error fetching https://amp.nytimes.com/2018/02/15/us/politics/right-and-left-react-to-the-gun-control-debate-after-the-florida-shooting.html?partner=rss&emc=rss: Cannot connect to host amp.nytimes.com:443 ssl:default [nodename nor servname provided, or not known]\n"
     ]
    },
    {
     "name": "stderr",
     "output_type": "stream",
     "text": [
      " 12%|█▏        | 161/1300 [05:41<37:03,  1.95s/it]"
     ]
    },
    {
     "name": "stdout",
     "output_type": "stream",
     "text": [
      "Error fetching https://amp.nytimes.com/2018/01/24/opinion/guns-kentucky-twitter.html?src=twr: Cannot connect to host amp.nytimes.com:443 ssl:default [nodename nor servname provided, or not known]\n"
     ]
    },
    {
     "name": "stderr",
     "output_type": "stream",
     "text": [
      " 12%|█▏        | 162/1300 [05:42<34:54,  1.84s/it]"
     ]
    },
    {
     "name": "stdout",
     "output_type": "stream",
     "text": [
      "Error fetching https://amp.nytimes.com/2018/02/20/us/parkland-students-shooting-florida.html: Cannot connect to host amp.nytimes.com:443 ssl:default [nodename nor servname provided, or not known]\n"
     ]
    },
    {
     "name": "stderr",
     "output_type": "stream",
     "text": [
      " 13%|█▎        | 166/1300 [05:49<31:41,  1.68s/it]"
     ]
    },
    {
     "name": "stdout",
     "output_type": "stream",
     "text": [
      "Error fetching https://amp.nytimes.com/2018/05/15/us/parkland-parents-school-board.html?partner=rss&emc=rss: Cannot connect to host amp.nytimes.com:443 ssl:default [nodename nor servname provided, or not known]\n"
     ]
    },
    {
     "name": "stderr",
     "output_type": "stream",
     "text": [
      " 15%|█▍        | 192/1300 [06:44<31:25,  1.70s/it]"
     ]
    },
    {
     "name": "stdout",
     "output_type": "stream",
     "text": [
      "Error fetching https://amp.nytimes.com/2018/11/29/us/alabama-mall-shooting.html: Cannot connect to host amp.nytimes.com:443 ssl:default [nodename nor servname provided, or not known]\n"
     ]
    },
    {
     "name": "stderr",
     "output_type": "stream",
     "text": [
      " 16%|█▌        | 210/1300 [07:19<31:02,  1.71s/it]"
     ]
    },
    {
     "name": "stdout",
     "output_type": "stream",
     "text": [
      "Error fetching https://m.chicagotribune.com/news/opinion/commentary/ct-america-school-shootings-20180215-story.html: \n",
      "Error fetching https://amp.chicagotribune.com/news/opinion/commentary/ct-america-school-shootings-20180215-story.html: Cannot connect to host amp.chicagotribune.com:443 ssl:default [nodename nor servname provided, or not known]\n"
     ]
    },
    {
     "name": "stderr",
     "output_type": "stream",
     "text": [
      " 17%|█▋        | 217/1300 [07:46<36:33,  2.02s/it]  "
     ]
    },
    {
     "name": "stdout",
     "output_type": "stream",
     "text": [
      "Error fetching http://www.washingtonpost.com/news/the-fix/wp/2018/02/26/trumps-backtrack-on-gun-control-has-begun/: \n",
      "Error fetching http://www.washingtonpost.com/news/the-fix/wp/2018/02/26/trumps-backtrack-on-gun-control-has-begun/amp: \n",
      "Error fetching http://www.washingtonpost.com/news/the-fix/wp/2018/02/26/trumps-backtrack-on-gun-control-has-begun/amp.html: \n",
      "Error fetching http://m.washingtonpost.com/news/the-fix/wp/2018/02/26/trumps-backtrack-on-gun-control-has-begun: \n",
      "Error fetching http://amp.washingtonpost.com/news/the-fix/wp/2018/02/26/trumps-backtrack-on-gun-control-has-begun: Cannot connect to host amp.washingtonpost.com:80 ssl:default [nodename nor servname provided, or not known]\n"
     ]
    },
    {
     "name": "stderr",
     "output_type": "stream",
     "text": [
      " 17%|█▋        | 226/1300 [09:03<43:19,  2.42s/it]  "
     ]
    },
    {
     "name": "stdout",
     "output_type": "stream",
     "text": [
      "Error fetching https://m.politico.com/states/new-york/city-hall/story/2018/02/28/trump-upends-gun-politics-for-now-286367: \n"
     ]
    },
    {
     "name": "stderr",
     "output_type": "stream",
     "text": [
      " 18%|█▊        | 231/1300 [09:31<1:09:06,  3.88s/it]"
     ]
    },
    {
     "name": "stdout",
     "output_type": "stream",
     "text": [
      "Error fetching https://amp.nytimes.com/2018/02/27/us/gun-control-florida.html?partner=rss&emc=rss: Cannot connect to host amp.nytimes.com:443 ssl:default [nodename nor servname provided, or not known]\n"
     ]
    },
    {
     "name": "stderr",
     "output_type": "stream",
     "text": [
      " 19%|█▊        | 243/1300 [10:00<43:58,  2.50s/it]  "
     ]
    },
    {
     "name": "stdout",
     "output_type": "stream",
     "text": [
      "Error fetching https://m.politico.com/states/new-york/albany/story/2018/03/06/assembly-passes-gun-control-package-300662: \n"
     ]
    },
    {
     "name": "stderr",
     "output_type": "stream",
     "text": [
      " 19%|█▉        | 248/1300 [10:28<1:04:47,  3.70s/it]"
     ]
    },
    {
     "name": "stdout",
     "output_type": "stream",
     "text": [
      "Error fetching https://www.washingtonpost.com/powerpost/on-capitol-hill-little-chance-of-a-legislative-response-to-latest-mass-shooting/2018/02/15/1014919e-129b-11e8-9570-29c9830535e5_story.html: \n",
      "Error fetching https://www.washingtonpost.com/powerpost/on-capitol-hill-little-chance-of-a-legislative-response-to-latest-mass-shooting/2018/02/15/1014919e-129b-11e8-9570-29c9830535e5_story.html/amp: \n",
      "Error fetching https://www.washingtonpost.com/powerpost/on-capitol-hill-little-chance-of-a-legislative-response-to-latest-mass-shooting/2018/02/15/1014919e-129b-11e8-9570-29c9830535e5_story.html/amp.html: \n",
      "Error fetching https://m.washingtonpost.com/powerpost/on-capitol-hill-little-chance-of-a-legislative-response-to-latest-mass-shooting/2018/02/15/1014919e-129b-11e8-9570-29c9830535e5_story.html: [Errno 54] Connection reset by peer\n",
      "Error fetching https://amp.washingtonpost.com/powerpost/on-capitol-hill-little-chance-of-a-legislative-response-to-latest-mass-shooting/2018/02/15/1014919e-129b-11e8-9570-29c9830535e5_story.html: Cannot connect to host amp.washingtonpost.com:443 ssl:default [nodename nor servname provided, or not known]\n"
     ]
    },
    {
     "name": "stderr",
     "output_type": "stream",
     "text": [
      " 20%|█▉        | 254/1300 [11:28<1:21:18,  4.66s/it]"
     ]
    },
    {
     "name": "stdout",
     "output_type": "stream",
     "text": [
      "Error fetching https://m.politico.com/states/new-york/albany/story/2018/03/12/gun-violence-measures-justice-department-311967: \n"
     ]
    },
    {
     "name": "stderr",
     "output_type": "stream",
     "text": [
      " 20%|██        | 261/1300 [12:00<48:36,  2.81s/it]  "
     ]
    },
    {
     "name": "stdout",
     "output_type": "stream",
     "text": [
      "Error fetching https://amp.nytimes.com/2018/03/12/us/politics/trump-evolving-positions-gun-issues.html: Cannot connect to host amp.nytimes.com:443 ssl:default [nodename nor servname provided, or not known]\n"
     ]
    },
    {
     "name": "stderr",
     "output_type": "stream",
     "text": [
      " 21%|██▏       | 278/1300 [12:30<34:48,  2.04s/it]"
     ]
    },
    {
     "name": "stdout",
     "output_type": "stream",
     "text": [
      "Error fetching https://m.politico.com/story/2018/04/06/ralph-norman-loaded-gun-507288: \n"
     ]
    },
    {
     "name": "stderr",
     "output_type": "stream",
     "text": [
      " 23%|██▎       | 304/1300 [13:48<44:14,  2.67s/it]  "
     ]
    },
    {
     "name": "stdout",
     "output_type": "stream",
     "text": [
      "Error fetching https://m.politico.com/story/2018/02/22/trump-arming-teachers-421654: \n"
     ]
    },
    {
     "name": "stderr",
     "output_type": "stream",
     "text": [
      " 25%|██▍       | 320/1300 [14:49<50:21,  3.08s/it]  "
     ]
    },
    {
     "name": "stdout",
     "output_type": "stream",
     "text": [
      "Error fetching https://m.politico.com/newsletters/playbook-power-briefing/2018/02/27/paul-ryan-gun-control-251562: \n"
     ]
    },
    {
     "name": "stderr",
     "output_type": "stream",
     "text": [
      " 25%|██▍       | 324/1300 [15:13<1:03:52,  3.93s/it]"
     ]
    },
    {
     "name": "stdout",
     "output_type": "stream",
     "text": [
      "Error fetching https://m.politico.com/states/florida/story/2018/02/20/once-a-proud-nra-sellout-putnam-wont-say-if-hed-use-term-again-266329: \n"
     ]
    },
    {
     "name": "stderr",
     "output_type": "stream",
     "text": [
      " 26%|██▋       | 343/1300 [16:12<38:43,  2.43s/it]  "
     ]
    },
    {
     "name": "stdout",
     "output_type": "stream",
     "text": [
      "Error fetching https://m.politico.com/story/2018/03/11/devos-schools-violence-task-force-454720: \n"
     ]
    },
    {
     "name": "stderr",
     "output_type": "stream",
     "text": [
      " 26%|██▋       | 344/1300 [16:31<1:54:49,  7.21s/it]"
     ]
    },
    {
     "name": "stdout",
     "output_type": "stream",
     "text": [
      "Error fetching https://amp.nytimes.com/2018/02/19/us/politics/trump-guns-background-checks.html: Cannot connect to host amp.nytimes.com:443 ssl:default [nodename nor servname provided, or not known]\n"
     ]
    },
    {
     "name": "stderr",
     "output_type": "stream",
     "text": [
      " 27%|██▋       | 351/1300 [16:50<56:09,  3.55s/it]  "
     ]
    },
    {
     "name": "stdout",
     "output_type": "stream",
     "text": [
      "Error fetching https://amp.nytimes.com/2018/03/01/us/fact-check-gun-meeting-trump-congress.html?partner=rss&emc=rss: Cannot connect to host amp.nytimes.com:443 ssl:default [nodename nor servname provided, or not known]\n"
     ]
    },
    {
     "name": "stderr",
     "output_type": "stream",
     "text": [
      " 27%|██▋       | 352/1300 [16:52<48:41,  3.08s/it]"
     ]
    },
    {
     "name": "stdout",
     "output_type": "stream",
     "text": [
      "Error fetching https://m.politico.com/story/2018/02/15/mass-shootings-mental-health-activists-warning-415598: \n"
     ]
    },
    {
     "name": "stderr",
     "output_type": "stream",
     "text": [
      " 27%|██▋       | 357/1300 [17:16<48:24,  3.08s/it]  "
     ]
    },
    {
     "name": "stdout",
     "output_type": "stream",
     "text": [
      "Error fetching https://amp.nytimes.com/2018/03/07/us/politics/parkland-school-shooting-congress-gun-control.html: Cannot connect to host amp.nytimes.com:443 ssl:default [nodename nor servname provided, or not known]\n"
     ]
    },
    {
     "name": "stderr",
     "output_type": "stream",
     "text": [
      " 28%|██▊       | 359/1300 [17:22<46:28,  2.96s/it]"
     ]
    },
    {
     "name": "stdout",
     "output_type": "stream",
     "text": [
      "Error fetching https://amp.nytimes.com/2018/02/15/us/politics/trump-florida-shooting-guns.html?partner=rss&emc=rss: Cannot connect to host amp.nytimes.com:443 ssl:default [nodename nor servname provided, or not known]\n"
     ]
    },
    {
     "name": "stderr",
     "output_type": "stream",
     "text": [
      " 28%|██▊       | 366/1300 [17:39<44:31,  2.86s/it]"
     ]
    },
    {
     "name": "stdout",
     "output_type": "stream",
     "text": [
      "Error fetching https://m.politico.com/states/new-york/albany/story/2018/02/28/cuomo-faults-democrats-in-dc-for-not-pushing-a-gun-bill-284556: \n"
     ]
    },
    {
     "name": "stderr",
     "output_type": "stream",
     "text": [
      " 29%|██▊       | 373/1300 [18:05<33:07,  2.14s/it]  "
     ]
    },
    {
     "name": "stdout",
     "output_type": "stream",
     "text": [
      "Error fetching https://amp.nytimes.com/2018/08/23/us/politics/devos-guns-in-schools.html?partner=rss&emc=rss: Cannot connect to host amp.nytimes.com:443 ssl:default [nodename nor servname provided, or not known]\n"
     ]
    },
    {
     "name": "stderr",
     "output_type": "stream",
     "text": [
      " 30%|███       | 390/1300 [18:49<35:36,  2.35s/it]"
     ]
    },
    {
     "name": "stdout",
     "output_type": "stream",
     "text": [
      "Error fetching https://m.politico.com/states/new-york/albany/story/2018/08/06/cuomo-urges-other-states-to-hit-nra-finances-as-group-claims-losses-540854: \n"
     ]
    },
    {
     "name": "stderr",
     "output_type": "stream",
     "text": [
      " 32%|███▏      | 415/1300 [20:03<37:40,  2.55s/it]  "
     ]
    },
    {
     "name": "stdout",
     "output_type": "stream",
     "text": [
      "Error fetching https://m.politico.com/story/2018/08/19/montana-governor-supports-assault-weapon-ban-788194: \n"
     ]
    },
    {
     "name": "stderr",
     "output_type": "stream",
     "text": [
      " 34%|███▍      | 441/1300 [21:21<30:18,  2.12s/it]  "
     ]
    },
    {
     "name": "stdout",
     "output_type": "stream",
     "text": [
      "Error fetching https://amp.nytimes.com/2018/09/05/us/politics/kavanaugh-abortion-guns-presidential-power.html?partner=rss&emc=rss: Cannot connect to host amp.nytimes.com:443 ssl:default [nodename nor servname provided, or not known]\n"
     ]
    },
    {
     "name": "stderr",
     "output_type": "stream",
     "text": [
      " 36%|███▌      | 462/1300 [22:10<29:40,  2.12s/it]"
     ]
    },
    {
     "name": "stdout",
     "output_type": "stream",
     "text": [
      "Error fetching http://amp.nytimes.com/2018/10/29/us/politics/trump-pittsburgh-synagogue-shooting.html: Cannot connect to host amp.nytimes.com:80 ssl:default [nodename nor servname provided, or not known]\n"
     ]
    },
    {
     "name": "stderr",
     "output_type": "stream",
     "text": [
      " 36%|███▌      | 470/1300 [22:27<28:51,  2.09s/it]"
     ]
    },
    {
     "name": "stdout",
     "output_type": "stream",
     "text": [
      "Error fetching https://m.politico.com/story/2018/10/29/trump-pittsburgh-synagogue-shooting-946965: \n"
     ]
    },
    {
     "name": "stderr",
     "output_type": "stream",
     "text": [
      " 37%|███▋      | 475/1300 [22:53<42:01,  3.06s/it]  "
     ]
    },
    {
     "name": "stdout",
     "output_type": "stream",
     "text": [
      "Error fetching https://amp.nytimes.com/2018/10/27/us/politics/trump-pittsburgh-synagogue-shooting.html: Cannot connect to host amp.nytimes.com:443 ssl:default [nodename nor servname provided, or not known]\n"
     ]
    },
    {
     "name": "stderr",
     "output_type": "stream",
     "text": [
      " 38%|███▊      | 493/1300 [23:37<42:50,  3.18s/it]"
     ]
    },
    {
     "name": "stdout",
     "output_type": "stream",
     "text": [
      "Error fetching https://amp.nytimes.com/2018/10/09/nyregion/tracy-mitrano-tom-reed-congress.html?partner=rss&emc=rss: Cannot connect to host amp.nytimes.com:443 ssl:default [nodename nor servname provided, or not known]\n"
     ]
    },
    {
     "name": "stderr",
     "output_type": "stream",
     "text": [
      " 39%|███▉      | 511/1300 [24:21<27:09,  2.07s/it]"
     ]
    },
    {
     "name": "stdout",
     "output_type": "stream",
     "text": [
      "Error fetching https://amp.nytimes.com/2018/11/04/us/politics/gun-control-candidates-election.html: Cannot connect to host amp.nytimes.com:443 ssl:default [nodename nor servname provided, or not known]\n"
     ]
    },
    {
     "name": "stderr",
     "output_type": "stream",
     "text": [
      " 41%|████      | 533/1300 [25:08<35:21,  2.77s/it]"
     ]
    },
    {
     "name": "stdout",
     "output_type": "stream",
     "text": [
      "Error fetching https://sg.finance.yahoo.com/news/gamers-across-esports-industry-paying-003500332.html: 400, message='Got more than 8190 bytes (18100) when reading Header value is too long.', url='https://sg.finance.yahoo.com/news/gamers-across-esports-industry-paying-003500332.html'\n",
      "Error fetching https://sg.finance.yahoo.com/news/gamers-across-esports-industry-paying-003500332.html/amp.html: 400, message='Got more than 8190 bytes (18100) when reading Header value is too long.', url='https://sg.finance.yahoo.com/news/gamers-across-esports-industry-paying-003500332.html'\n"
     ]
    },
    {
     "name": "stderr",
     "output_type": "stream",
     "text": [
      " 43%|████▎     | 558/1300 [26:01<25:46,  2.08s/it]"
     ]
    },
    {
     "name": "stdout",
     "output_type": "stream",
     "text": [
      "Error fetching https://amp.nytimes.com/2018/10/01/us/las-vegas-massacre-paddock.html?partner=rss&emc=rss: Cannot connect to host amp.nytimes.com:443 ssl:default [nodename nor servname provided, or not known]\n"
     ]
    },
    {
     "name": "stderr",
     "output_type": "stream",
     "text": [
      " 43%|████▎     | 559/1300 [26:02<22:09,  1.79s/it]"
     ]
    },
    {
     "name": "stdout",
     "output_type": "stream",
     "text": [
      "Error fetching https://m.politico.com/story/2018/10/28/pittsburgh-synagogue-shooting-jewish-943666: \n"
     ]
    },
    {
     "name": "stderr",
     "output_type": "stream",
     "text": [
      " 45%|████▍     | 580/1300 [27:22<33:43,  2.81s/it]  "
     ]
    },
    {
     "name": "stdout",
     "output_type": "stream",
     "text": [
      "Error fetching https://m.chicagotribune.com/news/opinion/commentary/ct-perspec-massacre-fatigue-shootings-numb-alarm-1121-20181119-story.html: \n",
      "Error fetching https://amp.chicagotribune.com/news/opinion/commentary/ct-perspec-massacre-fatigue-shootings-numb-alarm-1121-20181119-story.html: Cannot connect to host amp.chicagotribune.com:443 ssl:default [nodename nor servname provided, or not known]\n"
     ]
    },
    {
     "name": "stderr",
     "output_type": "stream",
     "text": [
      " 45%|████▍     | 582/1300 [27:41<1:08:06,  5.69s/it]"
     ]
    },
    {
     "name": "stdout",
     "output_type": "stream",
     "text": [
      "Error fetching https://amp.nytimes.com/2018/08/28/business/3d-printable-gun-plans.html: Cannot connect to host amp.nytimes.com:443 ssl:default [nodename nor servname provided, or not known]\n"
     ]
    },
    {
     "name": "stderr",
     "output_type": "stream",
     "text": [
      " 45%|████▌     | 590/1300 [28:00<30:57,  2.62s/it]  "
     ]
    },
    {
     "name": "stdout",
     "output_type": "stream",
     "text": [
      "Error fetching https://finance.yahoo.com/news/limited-engagement-top-funds-backed-gunmaker-ruger-board-225525791--sector.html: 400, message='Got more than 8190 bytes (18100) when reading Header value is too long.', url='https://finance.yahoo.com/news/limited-engagement-top-funds-backed-gunmaker-ruger-board-225525791--sector.html'\n",
      "Error fetching https://finance.yahoo.com/news/limited-engagement-top-funds-backed-gunmaker-ruger-board-225525791--sector.html/amp.html: 400, message='Got more than 8190 bytes (18100) when reading Header value is too long.', url='https://finance.yahoo.com/news/limited-engagement-top-funds-backed-gunmaker-ruger-board-225525791--sector.html'\n"
     ]
    },
    {
     "name": "stderr",
     "output_type": "stream",
     "text": [
      " 48%|████▊     | 619/1300 [28:57<23:25,  2.06s/it]"
     ]
    },
    {
     "name": "stdout",
     "output_type": "stream",
     "text": [
      "Error fetching https://amp.nytimes.com/2018/08/27/business/3-d-printed-gun-cody-wilson.html: Cannot connect to host amp.nytimes.com:443 ssl:default [nodename nor servname provided, or not known]\n"
     ]
    },
    {
     "name": "stderr",
     "output_type": "stream",
     "text": [
      " 48%|████▊     | 621/1300 [28:59<19:26,  1.72s/it]"
     ]
    },
    {
     "name": "stdout",
     "output_type": "stream",
     "text": [
      "Error fetching https://m.politico.com/states/florida/story/2018/08/27/florida-mass-shootings-embolden-democrats-on-gun-control-578357: \n"
     ]
    },
    {
     "name": "stderr",
     "output_type": "stream",
     "text": [
      " 49%|████▉     | 634/1300 [29:41<25:29,  2.30s/it]  "
     ]
    },
    {
     "name": "stdout",
     "output_type": "stream",
     "text": [
      "Error fetching https://amp.nytimes.com/2018/05/01/business/vista-outdoor-firearms.html: Cannot connect to host amp.nytimes.com:443 ssl:default [nodename nor servname provided, or not known]\n"
     ]
    },
    {
     "name": "stderr",
     "output_type": "stream",
     "text": [
      " 49%|████▉     | 638/1300 [29:53<28:20,  2.57s/it]"
     ]
    },
    {
     "name": "stdout",
     "output_type": "stream",
     "text": [
      "Error fetching https://finance.yahoo.com/video/students-across-america-plan-school-180412062.html: 400, message='Got more than 8190 bytes (18100) when reading Header value is too long.', url='https://finance.yahoo.com/video/students-across-america-plan-school-180412062.html'\n",
      "Error fetching https://finance.yahoo.com/video/students-across-america-plan-school-180412062.html/amp.html: 400, message='Got more than 8190 bytes (10245) when reading Header value is too long.', url='https://finance.yahoo.com/video/students-across-america-plan-school-180412062.html'\n"
     ]
    },
    {
     "name": "stderr",
     "output_type": "stream",
     "text": [
      " 50%|████▉     | 644/1300 [30:05<22:10,  2.03s/it]"
     ]
    },
    {
     "name": "stdout",
     "output_type": "stream",
     "text": [
      "Error fetching http://finance.yahoo.com/m/4acc81df-7051-3164-9f5d-7f8c55ddbbbb/calstrs-to-engage-with.html: 400, message='Got more than 8190 bytes (18697) when reading Header value is too long.', url='https://finance.yahoo.com/m/4acc81df-7051-3164-9f5d-7f8c55ddbbbb/calstrs-to-engage-with.html'\n",
      "Error fetching http://finance.yahoo.com/m/4acc81df-7051-3164-9f5d-7f8c55ddbbbb/calstrs-to-engage-with.html/amp.html: 400, message='Got more than 8190 bytes (14144) when reading Header value is too long.', url='https://finance.yahoo.com/m/4acc81df-7051-3164-9f5d-7f8c55ddbbbb/calstrs-to-engage-with.html/amp.html'\n"
     ]
    },
    {
     "name": "stderr",
     "output_type": "stream",
     "text": [
      " 50%|████▉     | 645/1300 [30:10<31:46,  2.91s/it]"
     ]
    },
    {
     "name": "stdout",
     "output_type": "stream",
     "text": [
      "Error fetching http://finance.yahoo.com/news/limited-engagement-top-funds-backed-gunmaker-ruger-board-225525791--sector.html: 400, message='Got more than 8190 bytes (18100) when reading Header value is too long.', url='https://finance.yahoo.com/news/limited-engagement-top-funds-backed-gunmaker-ruger-board-225525791--sector.html'\n",
      "Error fetching http://finance.yahoo.com/news/limited-engagement-top-funds-backed-gunmaker-ruger-board-225525791--sector.html/amp.html: 400, message='Got more than 8190 bytes (18100) when reading Header value is too long.', url='https://finance.yahoo.com/news/limited-engagement-top-funds-backed-gunmaker-ruger-board-225525791--sector.html'\n"
     ]
    },
    {
     "name": "stderr",
     "output_type": "stream",
     "text": [
      " 50%|████▉     | 646/1300 [30:13<32:25,  2.97s/it]"
     ]
    },
    {
     "name": "stdout",
     "output_type": "stream",
     "text": [
      "Error fetching http://finance.yahoo.com/m/93edb669-c93b-3a52-b375-ded3396b353b/the-gun-business-is-bouncing.html: 400, message='Got more than 8190 bytes (18697) when reading Header value is too long.', url='https://finance.yahoo.com/m/93edb669-c93b-3a52-b375-ded3396b353b/the-gun-business-is-bouncing.html'\n",
      "Error fetching http://finance.yahoo.com/m/93edb669-c93b-3a52-b375-ded3396b353b/the-gun-business-is-bouncing.html/amp.html: 400, message='Got more than 8190 bytes (8945) when reading Header value is too long.', url='https://finance.yahoo.com/m/93edb669-c93b-3a52-b375-ded3396b353b/the-gun-business-is-bouncing.html/amp.html'\n"
     ]
    },
    {
     "name": "stderr",
     "output_type": "stream",
     "text": [
      " 50%|█████     | 651/1300 [30:30<29:58,  2.77s/it]"
     ]
    },
    {
     "name": "stdout",
     "output_type": "stream",
     "text": [
      "Error fetching https://amp.nytimes.com/2018/09/09/us/california-gun-control-ammunition-bullets.html: Cannot connect to host amp.nytimes.com:443 ssl:default [nodename nor servname provided, or not known]\n"
     ]
    },
    {
     "name": "stderr",
     "output_type": "stream",
     "text": [
      " 51%|█████     | 663/1300 [31:03<26:40,  2.51s/it]"
     ]
    },
    {
     "name": "stdout",
     "output_type": "stream",
     "text": [
      "Error fetching https://amp.nytimes.com/2018/10/09/well/live/doctors-need-to-talk-to-families-about-guns-and-dementia.html?partner=rss&emc=rss: Cannot connect to host amp.nytimes.com:443 ssl:default [nodename nor servname provided, or not known]\n"
     ]
    },
    {
     "name": "stderr",
     "output_type": "stream",
     "text": [
      " 52%|█████▏    | 678/1300 [31:32<26:52,  2.59s/it]"
     ]
    },
    {
     "name": "stdout",
     "output_type": "stream",
     "text": [
      "Error fetching https://amp.nytimes.com/2018/02/20/us/politics/supreme-court-waiting-period-gun-purchases.html?partner=rss&emc=rss: Cannot connect to host amp.nytimes.com:443 ssl:default [nodename nor servname provided, or not known]\n"
     ]
    },
    {
     "name": "stderr",
     "output_type": "stream",
     "text": [
      " 52%|█████▏    | 679/1300 [31:34<24:46,  2.39s/it]"
     ]
    },
    {
     "name": "stdout",
     "output_type": "stream",
     "text": [
      "Error fetching https://www.washingtonpost.com/national/inside-the-nras-annual-meeting-guns-ammunition-family-and-politics/2018/05/05/e3435b20-5069-11e8-84a0-458a1aa9ac0a_story.html: \n",
      "Error fetching https://www.washingtonpost.com/national/inside-the-nras-annual-meeting-guns-ammunition-family-and-politics/2018/05/05/e3435b20-5069-11e8-84a0-458a1aa9ac0a_story.html/amp: \n",
      "Error fetching https://www.washingtonpost.com/national/inside-the-nras-annual-meeting-guns-ammunition-family-and-politics/2018/05/05/e3435b20-5069-11e8-84a0-458a1aa9ac0a_story.html/amp.html: \n",
      "Error fetching https://m.washingtonpost.com/national/inside-the-nras-annual-meeting-guns-ammunition-family-and-politics/2018/05/05/e3435b20-5069-11e8-84a0-458a1aa9ac0a_story.html: \n",
      "Error fetching https://amp.washingtonpost.com/national/inside-the-nras-annual-meeting-guns-ammunition-family-and-politics/2018/05/05/e3435b20-5069-11e8-84a0-458a1aa9ac0a_story.html: Cannot connect to host amp.washingtonpost.com:443 ssl:default [nodename nor servname provided, or not known]\n"
     ]
    },
    {
     "name": "stderr",
     "output_type": "stream",
     "text": [
      " 53%|█████▎    | 684/1300 [32:52<1:20:42,  7.86s/it]"
     ]
    },
    {
     "name": "stdout",
     "output_type": "stream",
     "text": [
      "Error fetching https://amp.nytimes.com/2018/03/22/business/youtube-gun-ban.html: Cannot connect to host amp.nytimes.com:443 ssl:default [nodename nor servname provided, or not known]\n"
     ]
    },
    {
     "name": "stderr",
     "output_type": "stream",
     "text": [
      " 53%|█████▎    | 685/1300 [32:53<1:00:04,  5.86s/it]"
     ]
    },
    {
     "name": "stdout",
     "output_type": "stream",
     "text": [
      "Error fetching https://amp.nytimes.com/2018/03/02/business/gun-sales-impact.html: Cannot connect to host amp.nytimes.com:443 ssl:default [nodename nor servname provided, or not known]\n"
     ]
    },
    {
     "name": "stderr",
     "output_type": "stream",
     "text": [
      " 53%|█████▎    | 686/1300 [32:56<50:19,  4.92s/it]  "
     ]
    },
    {
     "name": "stdout",
     "output_type": "stream",
     "text": [
      "Error fetching http://www.washingtonpost.com/news/wonk/wp/2018/03/10/nra-sues-florida-over-plan-to-put-age-limits-on-rifle-purchases/: \n",
      "Error fetching http://www.washingtonpost.com/news/wonk/wp/2018/03/10/nra-sues-florida-over-plan-to-put-age-limits-on-rifle-purchases/amp: \n",
      "Error fetching http://www.washingtonpost.com/news/wonk/wp/2018/03/10/nra-sues-florida-over-plan-to-put-age-limits-on-rifle-purchases/amp.html: \n",
      "Error fetching http://m.washingtonpost.com/news/wonk/wp/2018/03/10/nra-sues-florida-over-plan-to-put-age-limits-on-rifle-purchases: \n",
      "Error fetching http://amp.washingtonpost.com/news/wonk/wp/2018/03/10/nra-sues-florida-over-plan-to-put-age-limits-on-rifle-purchases: Cannot connect to host amp.washingtonpost.com:80 ssl:default [nodename nor servname provided, or not known]\n"
     ]
    },
    {
     "name": "stderr",
     "output_type": "stream",
     "text": [
      " 53%|█████▎    | 690/1300 [34:06<1:31:00,  8.95s/it]"
     ]
    },
    {
     "name": "stdout",
     "output_type": "stream",
     "text": [
      "Error fetching http://www.washingtonpost.com/news/wonk/wp/2018/05/17/gun-owners-support-a-wide-range-of-gun-control-measures-johns-hopkins-study-finds/: \n",
      "Error fetching http://www.washingtonpost.com/news/wonk/wp/2018/05/17/gun-owners-support-a-wide-range-of-gun-control-measures-johns-hopkins-study-finds/amp: \n",
      "Error fetching http://www.washingtonpost.com/news/wonk/wp/2018/05/17/gun-owners-support-a-wide-range-of-gun-control-measures-johns-hopkins-study-finds/amp.html: \n",
      "Error fetching http://m.washingtonpost.com/news/wonk/wp/2018/05/17/gun-owners-support-a-wide-range-of-gun-control-measures-johns-hopkins-study-finds: \n",
      "Error fetching http://amp.washingtonpost.com/news/wonk/wp/2018/05/17/gun-owners-support-a-wide-range-of-gun-control-measures-johns-hopkins-study-finds: Cannot connect to host amp.washingtonpost.com:80 ssl:default [nodename nor servname provided, or not known]\n"
     ]
    },
    {
     "name": "stderr",
     "output_type": "stream",
     "text": [
      " 53%|█████▎    | 691/1300 [35:10<4:18:47, 25.50s/it]"
     ]
    },
    {
     "name": "stdout",
     "output_type": "stream",
     "text": [
      "Error fetching https://amp.nytimes.com/2018/03/05/business/dealbook/investors-gunmakers.html?partner=rss&emc=rss: Cannot connect to host amp.nytimes.com:443 ssl:default [nodename nor servname provided, or not known]\n"
     ]
    },
    {
     "name": "stderr",
     "output_type": "stream",
     "text": [
      " 53%|█████▎    | 693/1300 [35:13<2:14:39, 13.31s/it]"
     ]
    },
    {
     "name": "stdout",
     "output_type": "stream",
     "text": [
      "Error fetching https://m.politico.com/states/new-york/albany/story/2018/06/05/cuomo-bill-would-allow-teachers-to-ask-judge-to-take-guns-from-students-451058: \n"
     ]
    },
    {
     "name": "stderr",
     "output_type": "stream",
     "text": [
      " 54%|█████▎    | 698/1300 [35:39<50:42,  5.05s/it]  "
     ]
    },
    {
     "name": "stdout",
     "output_type": "stream",
     "text": [
      "Error fetching https://amp.nytimes.com/2018/02/23/opinion/brian-mast-assault-weapons-ban.html: Cannot connect to host amp.nytimes.com:443 ssl:default [nodename nor servname provided, or not known]\n"
     ]
    },
    {
     "name": "stderr",
     "output_type": "stream",
     "text": [
      " 54%|█████▍    | 705/1300 [35:55<27:19,  2.76s/it]"
     ]
    },
    {
     "name": "stdout",
     "output_type": "stream",
     "text": [
      "Error fetching https://amp.nytimes.com/2018/05/23/business/gun-exports-trump.html: Cannot connect to host amp.nytimes.com:443 ssl:default [nodename nor servname provided, or not known]\n"
     ]
    },
    {
     "name": "stderr",
     "output_type": "stream",
     "text": [
      " 55%|█████▍    | 709/1300 [36:04<23:42,  2.41s/it]"
     ]
    },
    {
     "name": "stdout",
     "output_type": "stream",
     "text": [
      "Error fetching https://www.washingtonpost.com/news/morning-mix/wp/2018/02/24/united-and-delta-cut-ties-to-nra-as-boycott-movement-spreads-to-global-corporations/: \n",
      "Error fetching https://www.washingtonpost.com/news/morning-mix/wp/2018/02/24/united-and-delta-cut-ties-to-nra-as-boycott-movement-spreads-to-global-corporations/amp: \n",
      "Error fetching https://www.washingtonpost.com/news/morning-mix/wp/2018/02/24/united-and-delta-cut-ties-to-nra-as-boycott-movement-spreads-to-global-corporations/amp.html: \n",
      "Error fetching https://m.washingtonpost.com/news/morning-mix/wp/2018/02/24/united-and-delta-cut-ties-to-nra-as-boycott-movement-spreads-to-global-corporations: [Errno 54] Connection reset by peer\n",
      "Error fetching https://amp.washingtonpost.com/news/morning-mix/wp/2018/02/24/united-and-delta-cut-ties-to-nra-as-boycott-movement-spreads-to-global-corporations: Cannot connect to host amp.washingtonpost.com:443 ssl:default [nodename nor servname provided, or not known]\n"
     ]
    },
    {
     "name": "stderr",
     "output_type": "stream",
     "text": [
      " 55%|█████▍    | 711/1300 [36:54<1:55:37, 11.78s/it]"
     ]
    },
    {
     "name": "stdout",
     "output_type": "stream",
     "text": [
      "Error fetching https://amp.nytimes.com/2018/09/10/us/california-today-ammunition-gun-control.html: Cannot connect to host amp.nytimes.com:443 ssl:default [nodename nor servname provided, or not known]\n"
     ]
    },
    {
     "name": "stderr",
     "output_type": "stream",
     "text": [
      " 55%|█████▌    | 716/1300 [37:05<35:16,  3.62s/it]  "
     ]
    },
    {
     "name": "stdout",
     "output_type": "stream",
     "text": [
      "Error fetching https://www.washingtonpost.com/politics/does-the-us-lead-the-world-in-mass-shootings/2018/09/05/d78dbe23-204e-4677-b543-a998baab50f0_story.html: \n",
      "Error fetching https://www.washingtonpost.com/politics/does-the-us-lead-the-world-in-mass-shootings/2018/09/05/d78dbe23-204e-4677-b543-a998baab50f0_story.html/amp: \n",
      "Error fetching https://www.washingtonpost.com/politics/does-the-us-lead-the-world-in-mass-shootings/2018/09/05/d78dbe23-204e-4677-b543-a998baab50f0_story.html/amp.html: \n",
      "Error fetching https://m.washingtonpost.com/politics/does-the-us-lead-the-world-in-mass-shootings/2018/09/05/d78dbe23-204e-4677-b543-a998baab50f0_story.html: \n",
      "Error fetching https://amp.washingtonpost.com/politics/does-the-us-lead-the-world-in-mass-shootings/2018/09/05/d78dbe23-204e-4677-b543-a998baab50f0_story.html: Cannot connect to host amp.washingtonpost.com:443 ssl:default [nodename nor servname provided, or not known]\n"
     ]
    },
    {
     "name": "stderr",
     "output_type": "stream",
     "text": [
      " 56%|█████▌    | 723/1300 [38:25<48:17,  5.02s/it]  "
     ]
    },
    {
     "name": "stdout",
     "output_type": "stream",
     "text": [
      "Error fetching https://www.washingtonpost.com/opinions/i-voted-against-an-assault-weapons-ban-heres-why-i-changed-my-mind/2018/10/01/3bfa76a0-c594-11e8-9b1c-a90f1daae309_story.html: \n",
      "Error fetching https://www.washingtonpost.com/opinions/i-voted-against-an-assault-weapons-ban-heres-why-i-changed-my-mind/2018/10/01/3bfa76a0-c594-11e8-9b1c-a90f1daae309_story.html/amp: \n",
      "Error fetching https://www.washingtonpost.com/opinions/i-voted-against-an-assault-weapons-ban-heres-why-i-changed-my-mind/2018/10/01/3bfa76a0-c594-11e8-9b1c-a90f1daae309_story.html/amp.html: \n",
      "Error fetching https://m.washingtonpost.com/opinions/i-voted-against-an-assault-weapons-ban-heres-why-i-changed-my-mind/2018/10/01/3bfa76a0-c594-11e8-9b1c-a90f1daae309_story.html: \n",
      "Error fetching https://amp.washingtonpost.com/opinions/i-voted-against-an-assault-weapons-ban-heres-why-i-changed-my-mind/2018/10/01/3bfa76a0-c594-11e8-9b1c-a90f1daae309_story.html: Cannot connect to host amp.washingtonpost.com:443 ssl:default [nodename nor servname provided, or not known]\n"
     ]
    },
    {
     "name": "stderr",
     "output_type": "stream",
     "text": [
      " 56%|█████▌    | 727/1300 [39:40<1:36:05, 10.06s/it]"
     ]
    },
    {
     "name": "stdout",
     "output_type": "stream",
     "text": [
      "Error fetching https://amp.nytimes.com/2018/11/10/us/california-shooting-guns.html?partner=rss&emc=rss: Cannot connect to host amp.nytimes.com:443 ssl:default [nodename nor servname provided, or not known]\n"
     ]
    },
    {
     "name": "stderr",
     "output_type": "stream",
     "text": [
      " 56%|█████▌    | 728/1300 [39:43<1:14:24,  7.80s/it]"
     ]
    },
    {
     "name": "stdout",
     "output_type": "stream",
     "text": [
      "Error fetching https://www.washingtonpost.com/opinions/medical-professionals-refuse-to-stay-in-their-own-lane-on-gun-violence/2018/11/14/4d9c1e44-e6bf-11e8-8449-1ff263609a31_story.html?noredirect=on: \n",
      "Error fetching https://www.washingtonpost.com/opinions/medical-professionals-refuse-to-stay-in-their-own-lane-on-gun-violence/2018/11/14/4d9c1e44-e6bf-11e8-8449-1ff263609a31_story.html?noredirect=on/amp: \n",
      "Error fetching https://www.washingtonpost.com/opinions/medical-professionals-refuse-to-stay-in-their-own-lane-on-gun-violence/2018/11/14/4d9c1e44-e6bf-11e8-8449-1ff263609a31_story.html?noredirect=on/amp.html: \n",
      "Error fetching https://m.washingtonpost.com/opinions/medical-professionals-refuse-to-stay-in-their-own-lane-on-gun-violence/2018/11/14/4d9c1e44-e6bf-11e8-8449-1ff263609a31_story.html?noredirect=on: \n",
      "Error fetching https://amp.washingtonpost.com/opinions/medical-professionals-refuse-to-stay-in-their-own-lane-on-gun-violence/2018/11/14/4d9c1e44-e6bf-11e8-8449-1ff263609a31_story.html?noredirect=on: Cannot connect to host amp.washingtonpost.com:443 ssl:default [nodename nor servname provided, or not known]\n"
     ]
    },
    {
     "name": "stderr",
     "output_type": "stream",
     "text": [
      " 56%|█████▌    | 729/1300 [40:48<3:58:09, 25.03s/it]"
     ]
    },
    {
     "name": "stdout",
     "output_type": "stream",
     "text": [
      "Error fetching http://amp.nytimes.com/2018/11/28/business/firearms-industry-gun-sales.html: Cannot connect to host amp.nytimes.com:80 ssl:default [nodename nor servname provided, or not known]\n"
     ]
    },
    {
     "name": "stderr",
     "output_type": "stream",
     "text": [
      " 56%|█████▌    | 730/1300 [40:51<2:54:25, 18.36s/it]"
     ]
    },
    {
     "name": "stdout",
     "output_type": "stream",
     "text": [
      "Error fetching https://amp.nytimes.com/2018/11/13/us/nra-stay-in-your-lane-doctors.html: Cannot connect to host amp.nytimes.com:443 ssl:default [nodename nor servname provided, or not known]\n"
     ]
    },
    {
     "name": "stderr",
     "output_type": "stream",
     "text": [
      " 59%|█████▉    | 771/1300 [42:29<21:18,  2.42s/it]  "
     ]
    },
    {
     "name": "stdout",
     "output_type": "stream",
     "text": [
      "Error fetching https://www.washingtonpost.com/news/answer-sheet/wp/2018/03/16/n-y-governor-says-schools-should-drop-any-punishment-given-to-kids-who-joined-gun-violence-protests/: \n",
      "Error fetching https://www.washingtonpost.com/news/answer-sheet/wp/2018/03/16/n-y-governor-says-schools-should-drop-any-punishment-given-to-kids-who-joined-gun-violence-protests/amp: \n",
      "Error fetching https://www.washingtonpost.com/news/answer-sheet/wp/2018/03/16/n-y-governor-says-schools-should-drop-any-punishment-given-to-kids-who-joined-gun-violence-protests/amp.html: \n",
      "Error fetching https://m.washingtonpost.com/news/answer-sheet/wp/2018/03/16/n-y-governor-says-schools-should-drop-any-punishment-given-to-kids-who-joined-gun-violence-protests: \n",
      "Error fetching https://amp.washingtonpost.com/news/answer-sheet/wp/2018/03/16/n-y-governor-says-schools-should-drop-any-punishment-given-to-kids-who-joined-gun-violence-protests: Cannot connect to host amp.washingtonpost.com:443 ssl:default [nodename nor servname provided, or not known]\n"
     ]
    },
    {
     "name": "stderr",
     "output_type": "stream",
     "text": [
      " 59%|█████▉    | 773/1300 [43:36<2:14:38, 15.33s/it]"
     ]
    },
    {
     "name": "stdout",
     "output_type": "stream",
     "text": [
      "Error fetching http://www.washingtonpost.com/news/post-nation/wp/2018/02/18/advice-from-a-survivor-of-the-florida-school-shooting-its-time-to-start-ignoring-trump/: \n",
      "Error fetching http://www.washingtonpost.com/news/post-nation/wp/2018/02/18/advice-from-a-survivor-of-the-florida-school-shooting-its-time-to-start-ignoring-trump/amp: \n",
      "Error fetching http://www.washingtonpost.com/news/post-nation/wp/2018/02/18/advice-from-a-survivor-of-the-florida-school-shooting-its-time-to-start-ignoring-trump/amp.html: \n",
      "Error fetching http://m.washingtonpost.com/news/post-nation/wp/2018/02/18/advice-from-a-survivor-of-the-florida-school-shooting-its-time-to-start-ignoring-trump: \n",
      "Error fetching http://amp.washingtonpost.com/news/post-nation/wp/2018/02/18/advice-from-a-survivor-of-the-florida-school-shooting-its-time-to-start-ignoring-trump: Cannot connect to host amp.washingtonpost.com:80 ssl:default [nodename nor servname provided, or not known]\n"
     ]
    },
    {
     "name": "stderr",
     "output_type": "stream",
     "text": [
      " 60%|██████    | 785/1300 [45:03<18:59,  2.21s/it]  "
     ]
    },
    {
     "name": "stdout",
     "output_type": "stream",
     "text": [
      "Error fetching https://www.washingtonpost.com/news/monkey-cage/wp/2018/02/23/any-new-gun-control-would-need-to-address-norms-as-well-as-laws/: \n",
      "Error fetching https://www.washingtonpost.com/news/monkey-cage/wp/2018/02/23/any-new-gun-control-would-need-to-address-norms-as-well-as-laws/amp: \n",
      "Error fetching https://www.washingtonpost.com/news/monkey-cage/wp/2018/02/23/any-new-gun-control-would-need-to-address-norms-as-well-as-laws/amp.html: \n",
      "Error fetching https://m.washingtonpost.com/news/monkey-cage/wp/2018/02/23/any-new-gun-control-would-need-to-address-norms-as-well-as-laws: \n",
      "Error fetching https://amp.washingtonpost.com/news/monkey-cage/wp/2018/02/23/any-new-gun-control-would-need-to-address-norms-as-well-as-laws: Cannot connect to host amp.washingtonpost.com:443 ssl:default [nodename nor servname provided, or not known]\n"
     ]
    },
    {
     "name": "stderr",
     "output_type": "stream",
     "text": [
      " 61%|██████    | 795/1300 [46:30<24:39,  2.93s/it]  "
     ]
    },
    {
     "name": "stdout",
     "output_type": "stream",
     "text": [
      "Error fetching https://amp.nytimes.com/2018/03/13/opinion/nra-shooting-marjory-stoneman-douglas.html: Cannot connect to host amp.nytimes.com:443 ssl:default [nodename nor servname provided, or not known]\n"
     ]
    },
    {
     "name": "stderr",
     "output_type": "stream",
     "text": [
      " 62%|██████▏   | 801/1300 [46:47<22:00,  2.65s/it]"
     ]
    },
    {
     "name": "stdout",
     "output_type": "stream",
     "text": [
      "Error fetching http://www.washingtonpost.com/news/wonk/wp/2018/05/22/we-asked-every-member-of-the-house-of-representatives-about-the-parkland-gun-policy-agenda-heres-what-they-said/: \n",
      "Error fetching http://www.washingtonpost.com/news/wonk/wp/2018/05/22/we-asked-every-member-of-the-house-of-representatives-about-the-parkland-gun-policy-agenda-heres-what-they-said/amp: \n",
      "Error fetching http://www.washingtonpost.com/news/wonk/wp/2018/05/22/we-asked-every-member-of-the-house-of-representatives-about-the-parkland-gun-policy-agenda-heres-what-they-said/amp.html: \n",
      "Error fetching http://m.washingtonpost.com/news/wonk/wp/2018/05/22/we-asked-every-member-of-the-house-of-representatives-about-the-parkland-gun-policy-agenda-heres-what-they-said: \n",
      "Error fetching http://amp.washingtonpost.com/news/wonk/wp/2018/05/22/we-asked-every-member-of-the-house-of-representatives-about-the-parkland-gun-policy-agenda-heres-what-they-said: Cannot connect to host amp.washingtonpost.com:80 ssl:default [nodename nor servname provided, or not known]\n"
     ]
    },
    {
     "name": "stderr",
     "output_type": "stream",
     "text": [
      " 62%|██████▏   | 806/1300 [47:58<51:12,  6.22s/it]  "
     ]
    },
    {
     "name": "stdout",
     "output_type": "stream",
     "text": [
      "Error fetching http://www.washingtonpost.com/news/the-fix/wp/2018/04/20/has-parkland-changed-americans-views-on-guns/: \n",
      "Error fetching http://www.washingtonpost.com/news/the-fix/wp/2018/04/20/has-parkland-changed-americans-views-on-guns/amp: \n",
      "Error fetching http://www.washingtonpost.com/news/the-fix/wp/2018/04/20/has-parkland-changed-americans-views-on-guns/amp.html: \n",
      "Error fetching http://m.washingtonpost.com/news/the-fix/wp/2018/04/20/has-parkland-changed-americans-views-on-guns: \n",
      "Error fetching http://amp.washingtonpost.com/news/the-fix/wp/2018/04/20/has-parkland-changed-americans-views-on-guns: Cannot connect to host amp.washingtonpost.com:80 ssl:default [nodename nor servname provided, or not known]\n"
     ]
    },
    {
     "name": "stderr",
     "output_type": "stream",
     "text": [
      " 64%|██████▍   | 830/1300 [49:49<12:40,  1.62s/it]  "
     ]
    },
    {
     "name": "stdout",
     "output_type": "stream",
     "text": [
      "Error fetching https://m.politico.com/states/new-york/albany/story/2018/02/28/could-gop-inaction-on-guns-hand-the-house-to-dems-286282: \n"
     ]
    },
    {
     "name": "stderr",
     "output_type": "stream",
     "text": [
      " 64%|██████▍   | 837/1300 [50:22<26:27,  3.43s/it]"
     ]
    },
    {
     "name": "stdout",
     "output_type": "stream",
     "text": [
      "Error fetching http://finance.yahoo.com/m/78e7f1fa-b697-3d9d-836a-5580cb5dc510/larry-fink-confronted-by.html: 400, message='Got more than 8190 bytes (18697) when reading Header value is too long.', url='https://finance.yahoo.com/m/78e7f1fa-b697-3d9d-836a-5580cb5dc510/larry-fink-confronted-by.html'\n",
      "Error fetching http://finance.yahoo.com/m/78e7f1fa-b697-3d9d-836a-5580cb5dc510/larry-fink-confronted-by.html/amp.html: 400, message='Got more than 8190 bytes (14145) when reading Header value is too long.', url='https://finance.yahoo.com/m/78e7f1fa-b697-3d9d-836a-5580cb5dc510/larry-fink-confronted-by.html/amp.html'\n"
     ]
    },
    {
     "name": "stderr",
     "output_type": "stream",
     "text": [
      " 65%|██████▍   | 840/1300 [50:38<32:08,  4.19s/it]"
     ]
    },
    {
     "name": "stdout",
     "output_type": "stream",
     "text": [
      "Error fetching https://amp.nytimes.com/2018/10/10/us/politics/pennsylvania-gun-control-election.html: Cannot connect to host amp.nytimes.com:443 ssl:default [nodename nor servname provided, or not known]\n"
     ]
    },
    {
     "name": "stderr",
     "output_type": "stream",
     "text": [
      " 66%|██████▌   | 855/1300 [51:21<25:27,  3.43s/it]"
     ]
    },
    {
     "name": "stdout",
     "output_type": "stream",
     "text": [
      "Error fetching https://amp.nytimes.com/2018/11/16/us/politics/nra-gun-control-fund-raising.html: Cannot connect to host amp.nytimes.com:443 ssl:default [nodename nor servname provided, or not known]\n"
     ]
    },
    {
     "name": "stderr",
     "output_type": "stream",
     "text": [
      " 66%|██████▌   | 857/1300 [51:28<25:36,  3.47s/it]"
     ]
    },
    {
     "name": "stdout",
     "output_type": "stream",
     "text": [
      "Error fetching https://www.washingtonpost.com/national/police-change-explanation--again--after-killing-black-man-they-mistook-for-an-active-shooter/2018/11/26/c45ab693-f118-4d0f-bb41-5923b9ea9734_story.html: \n",
      "Error fetching https://www.washingtonpost.com/national/police-change-explanation--again--after-killing-black-man-they-mistook-for-an-active-shooter/2018/11/26/c45ab693-f118-4d0f-bb41-5923b9ea9734_story.html/amp: \n",
      "Error fetching https://www.washingtonpost.com/national/police-change-explanation--again--after-killing-black-man-they-mistook-for-an-active-shooter/2018/11/26/c45ab693-f118-4d0f-bb41-5923b9ea9734_story.html/amp.html: \n",
      "Error fetching https://m.washingtonpost.com/national/police-change-explanation--again--after-killing-black-man-they-mistook-for-an-active-shooter/2018/11/26/c45ab693-f118-4d0f-bb41-5923b9ea9734_story.html: \n",
      "Error fetching https://amp.washingtonpost.com/national/police-change-explanation--again--after-killing-black-man-they-mistook-for-an-active-shooter/2018/11/26/c45ab693-f118-4d0f-bb41-5923b9ea9734_story.html: Cannot connect to host amp.washingtonpost.com:443 ssl:default [nodename nor servname provided, or not known]\n"
     ]
    },
    {
     "name": "stderr",
     "output_type": "stream",
     "text": [
      " 67%|██████▋   | 865/1300 [52:47<29:37,  4.09s/it]  "
     ]
    },
    {
     "name": "stdout",
     "output_type": "stream",
     "text": [
      "Error fetching https://amp.nytimes.com/2018/05/21/us/texas-greg-abbott.html: Cannot connect to host amp.nytimes.com:443 ssl:default [nodename nor servname provided, or not known]\n"
     ]
    },
    {
     "name": "stderr",
     "output_type": "stream",
     "text": [
      " 67%|██████▋   | 877/1300 [53:17<18:29,  2.62s/it]"
     ]
    },
    {
     "name": "stdout",
     "output_type": "stream",
     "text": [
      "Error fetching https://amp.nytimes.com/2018/06/29/us/capital-gazette-shooting-suspect.html: Cannot connect to host amp.nytimes.com:443 ssl:default [nodename nor servname provided, or not known]\n"
     ]
    },
    {
     "name": "stderr",
     "output_type": "stream",
     "text": [
      " 68%|██████▊   | 883/1300 [53:32<14:33,  2.10s/it]"
     ]
    },
    {
     "name": "stdout",
     "output_type": "stream",
     "text": [
      "Error fetching https://amp.nytimes.com/2018/08/06/us/parkland-nikolas-cruz-transcript.html: Cannot connect to host amp.nytimes.com:443 ssl:default [nodename nor servname provided, or not known]\n"
     ]
    },
    {
     "name": "stderr",
     "output_type": "stream",
     "text": [
      " 69%|██████▉   | 900/1300 [54:07<13:51,  2.08s/it]"
     ]
    },
    {
     "name": "stdout",
     "output_type": "stream",
     "text": [
      "Error fetching https://amp.nytimes.com/2018/10/28/us/hias-pittsburgh-robert-bowers.html: Cannot connect to host amp.nytimes.com:443 ssl:default [nodename nor servname provided, or not known]\n"
     ]
    },
    {
     "name": "stderr",
     "output_type": "stream",
     "text": [
      " 70%|██████▉   | 908/1300 [54:28<18:23,  2.82s/it]"
     ]
    },
    {
     "name": "stdout",
     "output_type": "stream",
     "text": [
      "Error fetching http://finance.yahoo.com/m/642b85e3-422d-3e56-80a1-4dd258c124a0/paypal-bans-gab-in-wake-of.html: 400, message='Got more than 8190 bytes (18697) when reading Header value is too long.', url='https://finance.yahoo.com/m/642b85e3-422d-3e56-80a1-4dd258c124a0/paypal-bans-gab-in-wake-of.html'\n"
     ]
    },
    {
     "name": "stderr",
     "output_type": "stream",
     "text": [
      " 71%|███████   | 917/1300 [54:52<13:24,  2.10s/it]"
     ]
    },
    {
     "name": "stdout",
     "output_type": "stream",
     "text": [
      "Error fetching https://amp.nytimes.com/2018/10/28/us/politics/elections-synagogue-shooting-bombs.html?partner=rss&emc=rss: Cannot connect to host amp.nytimes.com:443 ssl:default [nodename nor servname provided, or not known]\n"
     ]
    },
    {
     "name": "stderr",
     "output_type": "stream",
     "text": [
      " 73%|███████▎  | 952/1300 [56:16<12:29,  2.16s/it]"
     ]
    },
    {
     "name": "stdout",
     "output_type": "stream",
     "text": [
      "Error fetching https://www.washingtonpost.com/local/public-safety/dc-man-arrested-on-gun-charge-after-relatives-alert-police-to-his-alleged-white-nationalist-outbursts/2018/11/13/e3a6d2fa-e771-11e8-b8dc-66cca409c180_story.html: \n",
      "Error fetching https://www.washingtonpost.com/local/public-safety/dc-man-arrested-on-gun-charge-after-relatives-alert-police-to-his-alleged-white-nationalist-outbursts/2018/11/13/e3a6d2fa-e771-11e8-b8dc-66cca409c180_story.html/amp: \n",
      "Error fetching https://www.washingtonpost.com/local/public-safety/dc-man-arrested-on-gun-charge-after-relatives-alert-police-to-his-alleged-white-nationalist-outbursts/2018/11/13/e3a6d2fa-e771-11e8-b8dc-66cca409c180_story.html/amp.html: \n",
      "Error fetching https://m.washingtonpost.com/local/public-safety/dc-man-arrested-on-gun-charge-after-relatives-alert-police-to-his-alleged-white-nationalist-outbursts/2018/11/13/e3a6d2fa-e771-11e8-b8dc-66cca409c180_story.html: [Errno 54] Connection reset by peer\n",
      "Error fetching https://amp.washingtonpost.com/local/public-safety/dc-man-arrested-on-gun-charge-after-relatives-alert-police-to-his-alleged-white-nationalist-outbursts/2018/11/13/e3a6d2fa-e771-11e8-b8dc-66cca409c180_story.html: Cannot connect to host amp.washingtonpost.com:443 ssl:default [nodename nor servname provided, or not known]\n"
     ]
    },
    {
     "name": "stderr",
     "output_type": "stream",
     "text": [
      " 74%|███████▎  | 957/1300 [57:16<32:57,  5.77s/it]  "
     ]
    },
    {
     "name": "stdout",
     "output_type": "stream",
     "text": [
      "Error fetching https://www.washingtonpost.com/nation/2018/11/05/i-wanted-him-feel-compassion-jewish-nurse-who-treated-synagogue-shooting-suspect-tells-his-story/: \n",
      "Error fetching https://www.washingtonpost.com/nation/2018/11/05/i-wanted-him-feel-compassion-jewish-nurse-who-treated-synagogue-shooting-suspect-tells-his-story/amp: \n",
      "Error fetching https://www.washingtonpost.com/nation/2018/11/05/i-wanted-him-feel-compassion-jewish-nurse-who-treated-synagogue-shooting-suspect-tells-his-story/amp.html: \n",
      "Error fetching https://m.washingtonpost.com/nation/2018/11/05/i-wanted-him-feel-compassion-jewish-nurse-who-treated-synagogue-shooting-suspect-tells-his-story: [Errno 54] Connection reset by peer\n",
      "Error fetching https://amp.washingtonpost.com/nation/2018/11/05/i-wanted-him-feel-compassion-jewish-nurse-who-treated-synagogue-shooting-suspect-tells-his-story: Cannot connect to host amp.washingtonpost.com:443 ssl:default [nodename nor servname provided, or not known]\n"
     ]
    },
    {
     "name": "stderr",
     "output_type": "stream",
     "text": [
      " 74%|███████▎  | 958/1300 [58:05<1:46:47, 18.73s/it]"
     ]
    },
    {
     "name": "stdout",
     "output_type": "stream",
     "text": [
      "Error fetching https://www.washingtonpost.com/education/2018/11/01/mom-thanks-active-shooter-drills-school-my-year-old-thought-fireworks-were-gunshots-enough-already/: \n",
      "Error fetching https://www.washingtonpost.com/education/2018/11/01/mom-thanks-active-shooter-drills-school-my-year-old-thought-fireworks-were-gunshots-enough-already/amp: \n",
      "Error fetching https://www.washingtonpost.com/education/2018/11/01/mom-thanks-active-shooter-drills-school-my-year-old-thought-fireworks-were-gunshots-enough-already/amp.html: \n",
      "Error fetching https://m.washingtonpost.com/education/2018/11/01/mom-thanks-active-shooter-drills-school-my-year-old-thought-fireworks-were-gunshots-enough-already: \n",
      "Error fetching https://amp.washingtonpost.com/education/2018/11/01/mom-thanks-active-shooter-drills-school-my-year-old-thought-fireworks-were-gunshots-enough-already: Cannot connect to host amp.washingtonpost.com:443 ssl:default [nodename nor servname provided, or not known]\n"
     ]
    },
    {
     "name": "stderr",
     "output_type": "stream",
     "text": [
      " 74%|███████▍  | 961/1300 [59:13<1:34:54, 16.80s/it]"
     ]
    },
    {
     "name": "stdout",
     "output_type": "stream",
     "text": [
      "Error fetching https://www.washingtonpost.com/express/wp/2018/02/15/trending-twitter-fills-with-calls-for-action-after-fla-shooting/: \n",
      "Error fetching https://www.washingtonpost.com/express/wp/2018/02/15/trending-twitter-fills-with-calls-for-action-after-fla-shooting/amp: \n",
      "Error fetching https://www.washingtonpost.com/express/wp/2018/02/15/trending-twitter-fills-with-calls-for-action-after-fla-shooting/amp.html: \n",
      "Error fetching https://m.washingtonpost.com/express/wp/2018/02/15/trending-twitter-fills-with-calls-for-action-after-fla-shooting: \n",
      "Error fetching https://amp.washingtonpost.com/express/wp/2018/02/15/trending-twitter-fills-with-calls-for-action-after-fla-shooting: Cannot connect to host amp.washingtonpost.com:443 ssl:default [nodename nor servname provided, or not known]\n"
     ]
    },
    {
     "name": "stderr",
     "output_type": "stream",
     "text": [
      " 74%|███████▍  | 964/1300 [1:00:25<1:34:11, 16.82s/it]"
     ]
    },
    {
     "name": "stdout",
     "output_type": "stream",
     "text": [
      "Error fetching https://amp.nytimes.com/2018/05/29/us/parkland-shooter-video-game.html: Cannot connect to host amp.nytimes.com:443 ssl:default [nodename nor servname provided, or not known]\n"
     ]
    },
    {
     "name": "stderr",
     "output_type": "stream",
     "text": [
      " 74%|███████▍  | 968/1300 [1:00:37<33:19,  6.02s/it]  "
     ]
    },
    {
     "name": "stdout",
     "output_type": "stream",
     "text": [
      "Error fetching https://amp.nytimes.com/2018/06/18/nyregion/trenton-grieves-after-a-shooting-at-event-that-was-a-beacon.html?partner=rss&emc=rss: Cannot connect to host amp.nytimes.com:443 ssl:default [nodename nor servname provided, or not known]\n"
     ]
    },
    {
     "name": "stderr",
     "output_type": "stream",
     "text": [
      " 75%|███████▌  | 976/1300 [1:01:01<23:30,  4.35s/it]"
     ]
    },
    {
     "name": "stdout",
     "output_type": "stream",
     "text": [
      "Error fetching https://amp.nytimes.com/2018/08/27/us/jacksonville-shooting-gaming-esports.html: Cannot connect to host amp.nytimes.com:443 ssl:default [nodename nor servname provided, or not known]\n"
     ]
    },
    {
     "name": "stderr",
     "output_type": "stream",
     "text": [
      " 77%|███████▋  | 996/1300 [1:01:56<11:58,  2.36s/it]"
     ]
    },
    {
     "name": "stdout",
     "output_type": "stream",
     "text": [
      "Error fetching https://amp.nytimes.com/2018/09/09/insider/ian-urbina-father-gun-control.html?partner=rss&emc=rss: Cannot connect to host amp.nytimes.com:443 ssl:default [nodename nor servname provided, or not known]\n"
     ]
    },
    {
     "name": "stderr",
     "output_type": "stream",
     "text": [
      " 77%|███████▋  | 1001/1300 [1:02:11<16:33,  3.32s/it]"
     ]
    },
    {
     "name": "stdout",
     "output_type": "stream",
     "text": [
      "Error fetching http://amp.nytimes.com/2018/10/29/us/north-carolina-school-shooting.html: Cannot connect to host amp.nytimes.com:80 ssl:default [nodename nor servname provided, or not known]\n"
     ]
    },
    {
     "name": "stderr",
     "output_type": "stream",
     "text": [
      " 78%|███████▊  | 1011/1300 [1:02:42<14:02,  2.92s/it]"
     ]
    },
    {
     "name": "stdout",
     "output_type": "stream",
     "text": [
      "Error fetching https://m.chicagotribune.com/news/local/breaking/ct-met-chicago-mercy-hospital-juan-lopez-fire-academy-report-20181123-story.html: \n",
      "Error fetching https://amp.chicagotribune.com/news/local/breaking/ct-met-chicago-mercy-hospital-juan-lopez-fire-academy-report-20181123-story.html: Cannot connect to host amp.chicagotribune.com:443 ssl:default [nodename nor servname provided, or not known]\n"
     ]
    },
    {
     "name": "stderr",
     "output_type": "stream",
     "text": [
      " 79%|███████▊  | 1022/1300 [1:03:21<10:57,  2.37s/it]"
     ]
    },
    {
     "name": "stdout",
     "output_type": "stream",
     "text": [
      "Error fetching https://m.politico.com/states/florida/story/2018/03/07/florida-house-passes-gun-reform-school-safety-bill-after-lengthy-debate-301839: \n"
     ]
    },
    {
     "name": "stderr",
     "output_type": "stream",
     "text": [
      " 79%|███████▉  | 1030/1300 [1:04:01<16:43,  3.71s/it]"
     ]
    },
    {
     "name": "stdout",
     "output_type": "stream",
     "text": [
      "Error fetching https://www.washingtonpost.com/local/public-safety/alleged-dc-white-nationalist-denied-bail-on-gun-related-charges/2018/11/16/6f3cd0d6-e9e2-11e8-bbdb-72fdbf9d4fed_story.html?noredirect=on: \n",
      "Error fetching https://www.washingtonpost.com/local/public-safety/alleged-dc-white-nationalist-denied-bail-on-gun-related-charges/2018/11/16/6f3cd0d6-e9e2-11e8-bbdb-72fdbf9d4fed_story.html?noredirect=on/amp: \n",
      "Error fetching https://www.washingtonpost.com/local/public-safety/alleged-dc-white-nationalist-denied-bail-on-gun-related-charges/2018/11/16/6f3cd0d6-e9e2-11e8-bbdb-72fdbf9d4fed_story.html?noredirect=on/amp.html: \n",
      "Error fetching https://m.washingtonpost.com/local/public-safety/alleged-dc-white-nationalist-denied-bail-on-gun-related-charges/2018/11/16/6f3cd0d6-e9e2-11e8-bbdb-72fdbf9d4fed_story.html?noredirect=on: [Errno 54] Connection reset by peer\n",
      "Error fetching https://amp.washingtonpost.com/local/public-safety/alleged-dc-white-nationalist-denied-bail-on-gun-related-charges/2018/11/16/6f3cd0d6-e9e2-11e8-bbdb-72fdbf9d4fed_story.html?noredirect=on: Cannot connect to host amp.washingtonpost.com:443 ssl:default [nodename nor servname provided, or not known]\n"
     ]
    },
    {
     "name": "stderr",
     "output_type": "stream",
     "text": [
      " 80%|████████  | 1044/1300 [1:05:34<13:08,  3.08s/it]  "
     ]
    },
    {
     "name": "stdout",
     "output_type": "stream",
     "text": [
      "Error fetching https://amp.nytimes.com/2018/03/04/business/school-security-industry-surges-after-shootings.html: Cannot connect to host amp.nytimes.com:443 ssl:default [nodename nor servname provided, or not known]\n"
     ]
    },
    {
     "name": "stderr",
     "output_type": "stream",
     "text": [
      " 82%|████████▏ | 1066/1300 [1:06:43<12:44,  3.27s/it]"
     ]
    },
    {
     "name": "stdout",
     "output_type": "stream",
     "text": [
      "Error fetching https://finance.yahoo.com/news/nra-losing-major-sponsors-partners-173847561.html: 400, message='Got more than 8190 bytes (10245) when reading Header value is too long.', url='https://finance.yahoo.com/news/nra-losing-major-sponsors-partners-173847561.html'\n",
      "Error fetching https://finance.yahoo.com/news/nra-losing-major-sponsors-partners-173847561.html/amp.html: 400, message='Got more than 8190 bytes (12845) when reading Header value is too long.', url='https://finance.yahoo.com/news/nra-losing-major-sponsors-partners-173847561.html/amp.html'\n"
     ]
    },
    {
     "name": "stderr",
     "output_type": "stream",
     "text": [
      " 82%|████████▏ | 1067/1300 [1:06:46<12:17,  3.16s/it]"
     ]
    },
    {
     "name": "stdout",
     "output_type": "stream",
     "text": [
      "Error fetching https://m.politico.com/states/florida/story/2018/06/26/agriculture-candidate-caldwell-snags-nras-first-statewide-endorsement-488285: \n"
     ]
    },
    {
     "name": "stderr",
     "output_type": "stream",
     "text": [
      " 82%|████████▏ | 1069/1300 [1:07:08<24:01,  6.24s/it]"
     ]
    },
    {
     "name": "stdout",
     "output_type": "stream",
     "text": [
      "Error fetching http://www.washingtonpost.com/news/post-politics/wp/2018/02/25/nra-spokeswoman-pushes-back-on-raising-age-for-buying-semiautomatic-rifles-an-idea-trump-has-suggested/: \n",
      "Error fetching http://www.washingtonpost.com/news/post-politics/wp/2018/02/25/nra-spokeswoman-pushes-back-on-raising-age-for-buying-semiautomatic-rifles-an-idea-trump-has-suggested/amp: \n",
      "Error fetching http://www.washingtonpost.com/news/post-politics/wp/2018/02/25/nra-spokeswoman-pushes-back-on-raising-age-for-buying-semiautomatic-rifles-an-idea-trump-has-suggested/amp.html: \n",
      "Error fetching http://m.washingtonpost.com/news/post-politics/wp/2018/02/25/nra-spokeswoman-pushes-back-on-raising-age-for-buying-semiautomatic-rifles-an-idea-trump-has-suggested: \n",
      "Error fetching http://amp.washingtonpost.com/news/post-politics/wp/2018/02/25/nra-spokeswoman-pushes-back-on-raising-age-for-buying-semiautomatic-rifles-an-idea-trump-has-suggested: Cannot connect to host amp.washingtonpost.com:80 ssl:default [nodename nor servname provided, or not known]\n"
     ]
    },
    {
     "name": "stderr",
     "output_type": "stream",
     "text": [
      " 83%|████████▎ | 1077/1300 [1:08:28<16:29,  4.44s/it]  "
     ]
    },
    {
     "name": "stdout",
     "output_type": "stream",
     "text": [
      "Error fetching https://www.washingtonpost.com/lifestyle/style/the-nra-is-using-trumps-playbook-to-attack-the-news-media-it-must-be-getting-desperate/2018/02/23/76729496-18a8-11e8-92c9-376b4fe57ff7_story.html: \n",
      "Error fetching https://www.washingtonpost.com/lifestyle/style/the-nra-is-using-trumps-playbook-to-attack-the-news-media-it-must-be-getting-desperate/2018/02/23/76729496-18a8-11e8-92c9-376b4fe57ff7_story.html/amp: \n",
      "Error fetching https://www.washingtonpost.com/lifestyle/style/the-nra-is-using-trumps-playbook-to-attack-the-news-media-it-must-be-getting-desperate/2018/02/23/76729496-18a8-11e8-92c9-376b4fe57ff7_story.html/amp.html: \n",
      "Error fetching https://m.washingtonpost.com/lifestyle/style/the-nra-is-using-trumps-playbook-to-attack-the-news-media-it-must-be-getting-desperate/2018/02/23/76729496-18a8-11e8-92c9-376b4fe57ff7_story.html: \n",
      "Error fetching https://amp.washingtonpost.com/lifestyle/style/the-nra-is-using-trumps-playbook-to-attack-the-news-media-it-must-be-getting-desperate/2018/02/23/76729496-18a8-11e8-92c9-376b4fe57ff7_story.html: Cannot connect to host amp.washingtonpost.com:443 ssl:default [nodename nor servname provided, or not known]\n"
     ]
    },
    {
     "name": "stderr",
     "output_type": "stream",
     "text": [
      " 86%|████████▌ | 1116/1300 [1:11:11<08:58,  2.93s/it]  "
     ]
    },
    {
     "name": "stdout",
     "output_type": "stream",
     "text": [
      "Error fetching https://amp.nytimes.com/2018/04/10/business/bank-of-america-guns.html?partner=rss&emc=rss: Cannot connect to host amp.nytimes.com:443 ssl:default [nodename nor servname provided, or not known]\n"
     ]
    },
    {
     "name": "stderr",
     "output_type": "stream",
     "text": [
      " 87%|████████▋ | 1128/1300 [1:11:37<06:10,  2.15s/it]"
     ]
    },
    {
     "name": "stdout",
     "output_type": "stream",
     "text": [
      "Error fetching https://amp.nytimes.com/2018/02/20/us/gun-control-florida-shooting.html?src=twr: Cannot connect to host amp.nytimes.com:443 ssl:default [nodename nor servname provided, or not known]\n"
     ]
    },
    {
     "name": "stderr",
     "output_type": "stream",
     "text": [
      " 87%|████████▋ | 1130/1300 [1:11:42<06:12,  2.19s/it]"
     ]
    },
    {
     "name": "stdout",
     "output_type": "stream",
     "text": [
      "Error fetching http://www.washingtonpost.com/news/post-nation/wp/2018/04/12/a-parkland-teacher-volunteered-to-arm-himself-then-left-a-loaded-gun-in-a-public-bathroom/: \n",
      "Error fetching http://www.washingtonpost.com/news/post-nation/wp/2018/04/12/a-parkland-teacher-volunteered-to-arm-himself-then-left-a-loaded-gun-in-a-public-bathroom/amp: \n",
      "Error fetching http://www.washingtonpost.com/news/post-nation/wp/2018/04/12/a-parkland-teacher-volunteered-to-arm-himself-then-left-a-loaded-gun-in-a-public-bathroom/amp.html: \n",
      "Error fetching http://m.washingtonpost.com/news/post-nation/wp/2018/04/12/a-parkland-teacher-volunteered-to-arm-himself-then-left-a-loaded-gun-in-a-public-bathroom: \n",
      "Error fetching http://amp.washingtonpost.com/news/post-nation/wp/2018/04/12/a-parkland-teacher-volunteered-to-arm-himself-then-left-a-loaded-gun-in-a-public-bathroom: Cannot connect to host amp.washingtonpost.com:80 ssl:default [nodename nor servname provided, or not known]\n"
     ]
    },
    {
     "name": "stderr",
     "output_type": "stream",
     "text": [
      " 87%|████████▋ | 1131/1300 [1:12:46<58:50, 20.89s/it]"
     ]
    },
    {
     "name": "stdout",
     "output_type": "stream",
     "text": [
      "Error fetching https://amp.nytimes.com/2018/02/20/opinion/students-gun-control.html?src=twr: Cannot connect to host amp.nytimes.com:443 ssl:default [nodename nor servname provided, or not known]\n"
     ]
    },
    {
     "name": "stderr",
     "output_type": "stream",
     "text": [
      " 87%|████████▋ | 1137/1300 [1:13:01<11:33,  4.26s/it]"
     ]
    },
    {
     "name": "stdout",
     "output_type": "stream",
     "text": [
      "Error fetching http://finance.yahoo.com/news/florida-didn-apos-t-conduct-224104246.html: 400, message='Got more than 8190 bytes (18100) when reading Header value is too long.', url='https://finance.yahoo.com/news/florida-didn-apos-t-conduct-224104246.html'\n",
      "Error fetching http://finance.yahoo.com/news/florida-didn-apos-t-conduct-224104246.html/amp.html: 400, message='Got more than 8190 bytes (18100) when reading Header value is too long.', url='https://finance.yahoo.com/news/florida-didn-apos-t-conduct-224104246.html'\n"
     ]
    },
    {
     "name": "stderr",
     "output_type": "stream",
     "text": [
      " 88%|████████▊ | 1150/1300 [1:13:32<06:59,  2.80s/it]"
     ]
    },
    {
     "name": "stdout",
     "output_type": "stream",
     "text": [
      "Error fetching http://www.washingtonpost.com/news/arts-and-entertainment/wp/2018/03/23/country-singers-usually-stay-quiet-about-gun-issues-but-since-parkland-some-are-speaking-out/: \n",
      "Error fetching http://www.washingtonpost.com/news/arts-and-entertainment/wp/2018/03/23/country-singers-usually-stay-quiet-about-gun-issues-but-since-parkland-some-are-speaking-out/amp: \n",
      "Error fetching http://www.washingtonpost.com/news/arts-and-entertainment/wp/2018/03/23/country-singers-usually-stay-quiet-about-gun-issues-but-since-parkland-some-are-speaking-out/amp.html: \n",
      "Error fetching http://m.washingtonpost.com/news/arts-and-entertainment/wp/2018/03/23/country-singers-usually-stay-quiet-about-gun-issues-but-since-parkland-some-are-speaking-out: \n",
      "Error fetching http://amp.washingtonpost.com/news/arts-and-entertainment/wp/2018/03/23/country-singers-usually-stay-quiet-about-gun-issues-but-since-parkland-some-are-speaking-out: Cannot connect to host amp.washingtonpost.com:80 ssl:default [nodename nor servname provided, or not known]\n"
     ]
    },
    {
     "name": "stderr",
     "output_type": "stream",
     "text": [
      " 89%|████████▉ | 1155/1300 [1:14:50<18:02,  7.47s/it]"
     ]
    },
    {
     "name": "stdout",
     "output_type": "stream",
     "text": [
      "Error fetching https://amp.nytimes.com/2018/02/21/arts/television/stephen-colbert-florida-shooting-students.html?partner=rss&emc=rss: Cannot connect to host amp.nytimes.com:443 ssl:default [nodename nor servname provided, or not known]\n"
     ]
    },
    {
     "name": "stderr",
     "output_type": "stream",
     "text": [
      " 89%|████████▉ | 1162/1300 [1:15:05<05:48,  2.53s/it]"
     ]
    },
    {
     "name": "stdout",
     "output_type": "stream",
     "text": [
      "Error fetching https://m.politico.com/story/2018/02/22/tom-steyer-gun-safety-high-school-voter-registration-422336: \n"
     ]
    },
    {
     "name": "stderr",
     "output_type": "stream",
     "text": [
      " 92%|█████████▏| 1195/1300 [1:16:49<03:33,  2.03s/it]"
     ]
    },
    {
     "name": "stdout",
     "output_type": "stream",
     "text": [
      "Error fetching https://amp.nytimes.com/2018/08/08/business/media/family-fire-gun-safety.html: Cannot connect to host amp.nytimes.com:443 ssl:default [nodename nor servname provided, or not known]\n"
     ]
    },
    {
     "name": "stderr",
     "output_type": "stream",
     "text": [
      " 95%|█████████▍| 1231/1300 [1:18:07<03:05,  2.69s/it]"
     ]
    },
    {
     "name": "stdout",
     "output_type": "stream",
     "text": [
      "Error fetching https://amp.nytimes.com/2018/08/31/opinion/schools-can-keep-kids-safe-without-giving-their-teachers-guns.html: Cannot connect to host amp.nytimes.com:443 ssl:default [nodename nor servname provided, or not known]\n"
     ]
    },
    {
     "name": "stderr",
     "output_type": "stream",
     "text": [
      " 95%|█████████▌| 1235/1300 [1:18:15<02:27,  2.26s/it]"
     ]
    },
    {
     "name": "stdout",
     "output_type": "stream",
     "text": [
      "Error fetching https://ca.finance.yahoo.com/news/druckenmiller-trumps-approach-trade-like-little-kid-found-water-gun-174734745.html: 400, message='Got more than 8190 bytes (18088) when reading Header value is too long.', url='https://ca.finance.yahoo.com/news/druckenmiller-trumps-approach-trade-like-little-kid-found-water-gun-174734745.html'\n",
      "Error fetching https://ca.finance.yahoo.com/news/druckenmiller-trumps-approach-trade-like-little-kid-found-water-gun-174734745.html/amp.html: 400, message='Got more than 8190 bytes (18088) when reading Header value is too long.', url='https://ca.finance.yahoo.com/news/druckenmiller-trumps-approach-trade-like-little-kid-found-water-gun-174734745.html'\n"
     ]
    },
    {
     "name": "stderr",
     "output_type": "stream",
     "text": [
      " 96%|█████████▌| 1247/1300 [1:18:45<01:48,  2.04s/it]"
     ]
    },
    {
     "name": "stdout",
     "output_type": "stream",
     "text": [
      "Error fetching https://amp.nytimes.com/2018/10/09/business/media/mad-magazine-school-shootings-comic-strip.html: Cannot connect to host amp.nytimes.com:443 ssl:default [nodename nor servname provided, or not known]\n"
     ]
    },
    {
     "name": "stderr",
     "output_type": "stream",
     "text": [
      " 97%|█████████▋| 1259/1300 [1:19:19<02:11,  3.20s/it]"
     ]
    },
    {
     "name": "stdout",
     "output_type": "stream",
     "text": [
      "Error fetching http://finance.yahoo.com/news/suspected-pittsburgh-shooter-allegedly-had-003500259.html: 400, message='Got more than 8190 bytes (8945) when reading Header value is too long.', url='https://finance.yahoo.com/news/suspected-pittsburgh-shooter-allegedly-had-003500259.html'\n",
      "Error fetching http://finance.yahoo.com/news/suspected-pittsburgh-shooter-allegedly-had-003500259.html/amp.html: 400, message='Got more than 8190 bytes (18088) when reading Header value is too long.', url='https://finance.yahoo.com/news/suspected-pittsburgh-shooter-allegedly-had-003500259.html'\n"
     ]
    },
    {
     "name": "stderr",
     "output_type": "stream",
     "text": [
      " 97%|█████████▋| 1261/1300 [1:19:26<02:06,  3.24s/it]"
     ]
    },
    {
     "name": "stdout",
     "output_type": "stream",
     "text": [
      "Error fetching https://finance.yahoo.com/news/federal-grand-jury-charges-pittsburgh-071053499.html: 400, message='Got more than 8190 bytes (10244) when reading Header value is too long.', url='https://finance.yahoo.com/news/federal-grand-jury-charges-pittsburgh-071053499.html'\n",
      "Error fetching https://finance.yahoo.com/news/federal-grand-jury-charges-pittsburgh-071053499.html/amp.html: 400, message='Got more than 8190 bytes (14144) when reading Header value is too long.', url='https://finance.yahoo.com/news/federal-grand-jury-charges-pittsburgh-071053499.html'\n"
     ]
    },
    {
     "name": "stderr",
     "output_type": "stream",
     "text": [
      " 97%|█████████▋| 1267/1300 [1:19:46<01:49,  3.31s/it]"
     ]
    },
    {
     "name": "stdout",
     "output_type": "stream",
     "text": [
      "Error fetching https://amp.nytimes.com/2018/10/28/nyregion/eric-adams-brooklyn-guns.html: Cannot connect to host amp.nytimes.com:443 ssl:default [nodename nor servname provided, or not known]\n"
     ]
    },
    {
     "name": "stderr",
     "output_type": "stream",
     "text": [
      " 98%|█████████▊| 1278/1300 [1:20:16<01:06,  3.00s/it]"
     ]
    },
    {
     "name": "stdout",
     "output_type": "stream",
     "text": [
      "Error fetching https://m.chicagotribune.com/news/local/breaking/ct-chicago-hospital-shooting-nra-20181121-story.html: \n",
      "Error fetching https://amp.chicagotribune.com/news/local/breaking/ct-chicago-hospital-shooting-nra-20181121-story.html: Cannot connect to host amp.chicagotribune.com:443 ssl:default [nodename nor servname provided, or not known]\n"
     ]
    },
    {
     "name": "stderr",
     "output_type": "stream",
     "text": [
      " 98%|█████████▊| 1280/1300 [1:20:38<02:09,  6.46s/it]"
     ]
    },
    {
     "name": "stdout",
     "output_type": "stream",
     "text": [
      "Error fetching https://m.chicagotribune.com/suburbs/oak-park/news/ct-oak-park-gun-storage-tl-1115-story.html: \n",
      "Error fetching https://amp.chicagotribune.com/suburbs/oak-park/news/ct-oak-park-gun-storage-tl-1115-story.html: Cannot connect to host amp.chicagotribune.com:443 ssl:default [nodename nor servname provided, or not known]\n"
     ]
    },
    {
     "name": "stderr",
     "output_type": "stream",
     "text": [
      "100%|██████████| 1300/1300 [1:21:51<00:00,  3.78s/it]\n"
     ]
    }
   ],
   "source": [
    "async def scrape_article(session, rec):\n",
    "    art_id, url = rec[\"id\"], rec[\"article_url\"]\n",
    "    txt_path = SAVE_TXT.format(id=art_id)\n",
    "    if os.path.exists(txt_path):           # already scraped\n",
    "        return \"cached\"\n",
    "\n",
    "    # 0) ORIGINAL URL --------------------------------------------------------\n",
    "    html, status = await fetch_html(session, url)\n",
    "    # print(f\"[{art_id}] original status = {status}, url = {url}\")\n",
    "    if html and status == 200:\n",
    "        text = try_extract(html, url)\n",
    "        if good(text):\n",
    "            # cache html (optional)\n",
    "            async with aiofiles.open(SAVE_HTML.format(id=art_id), \"w\") as f:\n",
    "                await f.write(html)\n",
    "            async with aiofiles.open(txt_path, \"w\") as f:\n",
    "                await f.write(text)\n",
    "            return \"ok\"\n",
    "\n",
    "    # 1) AMP / mobile variants ---------------------------------------------  ←★ NEW\n",
    "    for alt in make_amp_variants(url):\n",
    "        html2, status2 = await fetch_html(session, alt)\n",
    "        # print(f\"[{art_id}] AMP status = {status2}, url = {alt}\")\n",
    "        if html2 and status2 == 200:\n",
    "            text2 = try_extract(html2, alt)\n",
    "            if good(text2):\n",
    "                async with aiofiles.open(txt_path, \"w\") as f:\n",
    "                    await f.write(text2)\n",
    "                return \"ok_amp\"\n",
    "\n",
    "    # 2) 12ft.io proxy ------------------------------------------------------  ←★ NEW\n",
    "    proxy_url = f\"https://12ft.io/proxy?q={url}\"\n",
    "    html3, status3 = await fetch_html(session, proxy_url)\n",
    "    # print(f\"[{art_id}] 12ft status = {status3}, url = {proxy_url}\")\n",
    "    if html3 and status3 == 200:\n",
    "        text3 = try_extract(html3, url)        # keep original url for metadata\n",
    "        if good(text3):\n",
    "            async with aiofiles.open(txt_path, \"w\") as f:\n",
    "                await f.write(text3)\n",
    "            return \"ok_12ft\"\n",
    "\n",
    "    # if everything failed ---------------------------------------------------\n",
    "    return (\"fail_extract\", status)\n",
    "\n",
    "async def scrape_all(url_records):\n",
    "    async with aiohttp.ClientSession() as session:\n",
    "        results = []\n",
    "        for rec in tqdm_asyncio(url_records, total=len(url_records)):\n",
    "            res = await scrape_article(session, rec)\n",
    "            results.append((rec[\"id\"], rec[\"article_url\"], res))\n",
    "            # politeness: 0.5‑1.5 s gap\n",
    "            await asyncio.sleep(random.uniform(0.5, 1.5))\n",
    "        return results\n",
    "\n",
    "# ---------------------------------------------------------------------------\n",
    "\n",
    "scrape_results = await scrape_all(URLS)              # (inside Jupyter cell)\n",
    "pd.DataFrame(scrape_results,\n",
    "             columns=[\"id\", \"url\", \"status\"]\n",
    "            ).to_csv(LOG_CSV, index=False)\n"
   ]
  }
 ],
 "metadata": {
  "kernelspec": {
   "display_name": "venv",
   "language": "python",
   "name": "python3"
  },
  "language_info": {
   "codemirror_mode": {
    "name": "ipython",
    "version": 3
   },
   "file_extension": ".py",
   "mimetype": "text/x-python",
   "name": "python",
   "nbconvert_exporter": "python",
   "pygments_lexer": "ipython3",
   "version": "3.11.8"
  }
 },
 "nbformat": 4,
 "nbformat_minor": 5
}
