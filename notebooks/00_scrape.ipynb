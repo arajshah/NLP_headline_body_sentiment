{
 "cells": [
  {
   "cell_type": "code",
   "execution_count": 20,
   "id": "c4985a6d",
   "metadata": {},
   "outputs": [],
   "source": [
    "import pandas as pd\n",
    "URL_CSV = \"../data/GVFC_extension_multimodal.csv\"\n",
    "df_urls = pd.read_csv(URL_CSV, usecols=[\"id\", \"article_url\", \"headline\"])\n",
    "\n",
    "# list of dicts\n",
    "URLS = df_urls.to_dict(\"records\")\n"
   ]
  },
  {
   "cell_type": "code",
   "execution_count": 21,
   "id": "d50df790",
   "metadata": {},
   "outputs": [],
   "source": [
    "import aiohttp, asyncio, async_timeout, random, os, aiofiles, trafilatura\n",
    "from tqdm.asyncio import tqdm_asyncio\n",
    "\n",
    "UA = \"Mozilla/5.0 (ResearchProject/2.0 +https://your‑email)\"\n",
    "HEADERS = {\"User-Agent\": UA}\n",
    "SAVE_HTML = \"../data/raw_html/{id}.html\"\n",
    "SAVE_TXT  = \"../data/full_text/{id}.txt\"\n",
    "LOG_CSV   = \"../data/scrape_log.csv\""
   ]
  },
  {
   "cell_type": "code",
   "execution_count": 22,
   "id": "c8d45cbb",
   "metadata": {},
   "outputs": [],
   "source": [
    "async def fetch_html(session, url, timeout=15):\n",
    "    try:\n",
    "        async with async_timeout.timeout(timeout):\n",
    "            async with session.get(url, headers=HEADERS) as r:\n",
    "                if r.status != 200:\n",
    "                    return None, r.status\n",
    "                return await r.text(), r.status\n",
    "    except Exception as e:\n",
    "        print(f\"Error fetching {url}: {e}\")\n",
    "        return None, str(e)\n",
    "\n",
    "def extract_text(html, url):\n",
    "    txt = trafilatura.extract(html, url=url, include_comments=False)\n",
    "    if txt and len(txt.split()) > 100:     # at least ~100 words\n",
    "        return txt\n",
    "    # fallback to newspaper3k\n",
    "    from newspaper import Article\n",
    "    art = Article(url)\n",
    "    art.set_html(html); art.parse()\n",
    "    return art.text if len(art.text.split()) > 100 else None\n"
   ]
  },
  {
   "cell_type": "code",
   "execution_count": 23,
   "id": "772f9d0e",
   "metadata": {},
   "outputs": [
    {
     "name": "stderr",
     "output_type": "stream",
     "text": [
      "  0%|          | 0/10 [00:00<?, ?it/s]"
     ]
    },
    {
     "name": "stdout",
     "output_type": "stream",
     "text": [
      "failed to fetch http://beta.latimes.com/nation/la-na-paddock-cremated-20180118-story.html 400\n"
     ]
    },
    {
     "name": "stderr",
     "output_type": "stream",
     "text": [
      " 10%|█         | 1/10 [00:01<00:15,  1.75s/it]"
     ]
    },
    {
     "name": "stdout",
     "output_type": "stream",
     "text": [
      "failed to fetch https://www.yahoo.com/news/florida-shooter-troubled-loner-white-supremacist-ties-213321497.html 404\n"
     ]
    },
    {
     "name": "stderr",
     "output_type": "stream",
     "text": [
      " 20%|██        | 2/10 [00:03<00:15,  1.88s/it]"
     ]
    },
    {
     "name": "stdout",
     "output_type": "stream",
     "text": [
      "failed to fetch http://www.chicagotribune.com/suburbs/lake-county-news-sun/news/ct-lns-vernon-hills-alleged-supremacy-weapons-st-0519-story.html 404\n"
     ]
    },
    {
     "name": "stderr",
     "output_type": "stream",
     "text": [
      " 30%|███       | 3/10 [00:05<00:13,  1.86s/it]"
     ]
    },
    {
     "name": "stdout",
     "output_type": "stream",
     "text": [
      "failed to fetch http://www.chicagotribune.com/suburbs/post-tribune/news/ct-ptb-griffith-charges-high-school-gun-st-0223-20180222-story.html 404\n"
     ]
    },
    {
     "name": "stderr",
     "output_type": "stream",
     "text": [
      " 50%|█████     | 5/10 [00:09<00:10,  2.09s/it]"
     ]
    },
    {
     "name": "stdout",
     "output_type": "stream",
     "text": [
      "failed to fetch https://nz.news.yahoo.com/attorneys-mexican-mans-us-charges-vindictive-172057732.html 404\n"
     ]
    },
    {
     "name": "stderr",
     "output_type": "stream",
     "text": [
      " 90%|█████████ | 9/10 [00:19<00:02,  2.70s/it]"
     ]
    },
    {
     "name": "stdout",
     "output_type": "stream",
     "text": [
      "failed to fetch http://www.chicagotribune.com/ct-florida-school-shooter-nikolas-cruz-20180217-story.html 404\n"
     ]
    },
    {
     "name": "stderr",
     "output_type": "stream",
     "text": [
      "100%|██████████| 10/10 [00:20<00:00,  2.02s/it]\n"
     ]
    }
   ],
   "source": [
    "async def scrape_article(session, rec):\n",
    "    art_id, url = rec[\"id\"], rec[\"article_url\"]\n",
    "    txt_path = SAVE_TXT.format(id=art_id)\n",
    "    if os.path.exists(txt_path):           # already scraped\n",
    "        return \"cached\"\n",
    "\n",
    "    html, status = await fetch_html(session, url)\n",
    "    if not html or status != 200:\n",
    "        print(\"failed to fetch\", url, status)\n",
    "        return (\"fail_html\", status)\n",
    "\n",
    "    # optional cache html\n",
    "    async with aiofiles.open(SAVE_HTML.format(id=art_id), \"w\") as f:\n",
    "        await f.write(html)\n",
    "\n",
    "    text = extract_text(html, url)\n",
    "    if not text:\n",
    "        return (\"fail_extract\", status)\n",
    "\n",
    "    async with aiofiles.open(txt_path, \"w\") as f:\n",
    "        await f.write(text)\n",
    "    return \"ok\"\n",
    "\n",
    "async def scrape_all(url_records):\n",
    "    async with aiohttp.ClientSession() as session:\n",
    "        results = []\n",
    "        for rec in tqdm_asyncio(url_records, total=len(url_records)):\n",
    "            res = await scrape_article(session, rec)\n",
    "            results.append((rec[\"id\"], rec[\"article_url\"], res))\n",
    "            # politeness: 0.5‑1.5 s gap\n",
    "            await asyncio.sleep(random.uniform(0.5, 1.5))\n",
    "        return results\n",
    "\n",
    "scrape_results = await scrape_all(URLS[:10])\n",
    "pd.DataFrame(scrape_results,\n",
    "             columns=[\"id\", \"url\", \"status\"]\n",
    "            ).to_csv(LOG_CSV, index=False)\n"
   ]
  },
  {
   "cell_type": "code",
   "execution_count": null,
   "id": "8fdcd4b5",
   "metadata": {},
   "outputs": [],
   "source": []
  }
 ],
 "metadata": {
  "kernelspec": {
   "display_name": "venv",
   "language": "python",
   "name": "python3"
  },
  "language_info": {
   "codemirror_mode": {
    "name": "ipython",
    "version": 3
   },
   "file_extension": ".py",
   "mimetype": "text/x-python",
   "name": "python",
   "nbconvert_exporter": "python",
   "pygments_lexer": "ipython3",
   "version": "3.11.8"
  }
 },
 "nbformat": 4,
 "nbformat_minor": 5
}
