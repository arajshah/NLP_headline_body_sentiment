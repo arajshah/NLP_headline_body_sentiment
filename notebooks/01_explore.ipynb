{
 "cells": [
  {
   "cell_type": "code",
   "execution_count": 1,
   "metadata": {},
   "outputs": [
    {
     "name": "stdout",
     "output_type": "stream",
     "text": [
      "Collecting openpyxl\n",
      "  Using cached openpyxl-3.1.5-py2.py3-none-any.whl.metadata (2.5 kB)\n",
      "Collecting et-xmlfile (from openpyxl)\n",
      "  Using cached et_xmlfile-2.0.0-py3-none-any.whl.metadata (2.7 kB)\n",
      "Using cached openpyxl-3.1.5-py2.py3-none-any.whl (250 kB)\n",
      "Using cached et_xmlfile-2.0.0-py3-none-any.whl (18 kB)\n",
      "Installing collected packages: et-xmlfile, openpyxl\n",
      "Successfully installed et-xmlfile-2.0.0 openpyxl-3.1.5\n",
      "\n",
      "\u001b[1m[\u001b[0m\u001b[34;49mnotice\u001b[0m\u001b[1;39;49m]\u001b[0m\u001b[39;49m A new release of pip is available: \u001b[0m\u001b[31;49m24.3.1\u001b[0m\u001b[39;49m -> \u001b[0m\u001b[32;49m25.0.1\u001b[0m\n",
      "\u001b[1m[\u001b[0m\u001b[34;49mnotice\u001b[0m\u001b[1;39;49m]\u001b[0m\u001b[39;49m To update, run: \u001b[0m\u001b[32;49mpip install --upgrade pip\u001b[0m\n",
      "Note: you may need to restart the kernel to use updated packages.\n"
     ]
    }
   ],
   "source": [
    "%pip install openpyxl\n",
    "import pandas as pd\n",
    "df_articles = pd.read_csv('../data/GVFC_extension_multimodal.csv')\n",
    "df_headlines = pd.read_excel('../data/GVFC_headlines_and_annotations.xlsx')"
   ]
  },
  {
   "cell_type": "code",
   "execution_count": 2,
   "metadata": {},
   "outputs": [
    {
     "name": "stdout",
     "output_type": "stream",
     "text": [
      "(1300, 17) ['id', 'article_url', 'headline', 'google_visual_api_web_entities_detection_on_lead_image', 'automatically_generated_caption_of_lead_image', 'lead_3_sentences_summary_of_full_article_text', 'presum_summary_of_full_article_text', 'Q1 Relevant', 'Q2 Focus', 'Q3 Theme1', 'Q3 Theme2', 'V1image', 'V2ethnicity', 'V3relevance', 'V4relevance', 'Q4 Image1', 'Q4 Image2']\n",
      "(2990, 5) ['news_title', 'Q1 Relevant', 'Q2 Focus', 'Q3 Theme1', 'Q3 Theme2']\n"
     ]
    }
   ],
   "source": [
    "print(df_articles.shape, df_articles.columns.tolist())\n",
    "print(df_headlines.shape, df_headlines.columns.tolist())"
   ]
  },
  {
   "cell_type": "code",
   "execution_count": 3,
   "metadata": {},
   "outputs": [
    {
     "data": {
      "text/plain": [
       "google_visual_api_web_entities_detection_on_lead_image    0.001538\n",
       "V4relevance                                               0.001538\n",
       "lead_3_sentences_summary_of_full_article_text             0.000769\n",
       "presum_summary_of_full_article_text                       0.000769\n",
       "id                                                        0.000000\n",
       "Q3 Theme2                                                 0.000000\n",
       "Q4 Image1                                                 0.000000\n",
       "V3relevance                                               0.000000\n",
       "V2ethnicity                                               0.000000\n",
       "V1image                                                   0.000000\n",
       "dtype: float64"
      ]
     },
     "execution_count": 3,
     "metadata": {},
     "output_type": "execute_result"
    }
   ],
   "source": [
    "df_articles.isna().mean().sort_values(ascending=False).head(10)\n"
   ]
  },
  {
   "cell_type": "code",
   "execution_count": 4,
   "metadata": {},
   "outputs": [],
   "source": [
    "df_articles['article_summary'] = df_articles['presum_summary_of_full_article_text']"
   ]
  },
  {
   "cell_type": "code",
   "execution_count": 5,
   "metadata": {},
   "outputs": [
    {
     "name": "stdout",
     "output_type": "stream",
     "text": [
      "(1300, 7)\n"
     ]
    }
   ],
   "source": [
    "KEEP_COLS = ['id',\n",
    "             'article_url',\n",
    "             'headline',\n",
    "             'article_summary',      # we just created this alias\n",
    "             'Q2 Focus',             # optional: perpetrator / victim / policy …\n",
    "             'Q3 Theme1', 'Q3 Theme2'  # optional for later slicing\n",
    "            ]\n",
    "\n",
    "df = df_articles[KEEP_COLS].copy()\n",
    "print(df.shape)"
   ]
  },
  {
   "cell_type": "code",
   "execution_count": 6,
   "metadata": {},
   "outputs": [
    {
     "name": "stdout",
     "output_type": "stream",
     "text": [
      "Rows after dropping empties: 1299\n"
     ]
    }
   ],
   "source": [
    "df = df.rename(columns={\n",
    "    'headline':       'headline_text',\n",
    "    'article_summary':'body_text',\n",
    "    'article_url':    'url'\n",
    "})\n",
    "\n",
    "df = df.dropna(subset=['headline_text', 'body_text'])\n",
    "print(f\"Rows after dropping empties: {len(df)}\")"
   ]
  },
  {
   "cell_type": "code",
   "execution_count": 7,
   "metadata": {},
   "outputs": [],
   "source": [
    "for col in ['headline_text', 'body_text']:\n",
    "    df[col] = (df[col]\n",
    "                 .astype(str)              # in case of non‑string NaNs\n",
    "                 .str.replace(r'\\s+', ' ', regex=True)\n",
    "                 .str.strip())"
   ]
  },
  {
   "cell_type": "code",
   "execution_count": 8,
   "metadata": {},
   "outputs": [
    {
     "name": "stdout",
     "output_type": "stream",
     "text": [
      "————————————————————————————————————————————————————————————————————————————————\n",
      "HEADLINE: Twitter Users Taunt NRA With 'Thoughts And Prayers'Amid Reports Of Financial Struggles\n",
      "BODY    : the national rifle association has ditched free coffee and yanked water coolers at its virginia headquarters due to a cash crunch. it comes  …\n",
      "————————————————————————————————————————————————————————————————————————————————\n",
      "HEADLINE: \"We are a better city\": Emotional mayor decries Chicago gun violence\n",
      "BODY    : chicago's mayor calls for increased accountability for gun assailants. at least 11 people were killed and 70 wounded in a spate of shootings …\n",
      "————————————————————————————————————————————————————————————————————————————————\n",
      "HEADLINE: Pittsburgh shooting suspect said he wanted all Jews to die: police\n",
      "BODY    : robert gregory bowers is charged with 11 counts of aggravated assault and 13 counts of ethnic intimidation. president trump donald john trum …\n"
     ]
    }
   ],
   "source": [
    "sample = df.sample(3, random_state=1)\n",
    "for _, row in sample.iterrows():\n",
    "    print(\"—\" * 80)\n",
    "    print(\"HEADLINE:\", row['headline_text'])\n",
    "    print(\"BODY    :\", row['body_text'][:140], \"…\")"
   ]
  },
  {
   "cell_type": "code",
   "execution_count": 9,
   "metadata": {},
   "outputs": [
    {
     "name": "stdout",
     "output_type": "stream",
     "text": [
      "Clean table saved to ../data/clean_gvfc_sentiment.csv\n"
     ]
    }
   ],
   "source": [
    "df = df.reset_index(drop=True)\n",
    "CLEAN_PATH = \"../data/clean_gvfc_sentiment.csv\"\n",
    "df.to_csv(CLEAN_PATH, index=False)\n",
    "print(\"Clean table saved to\", CLEAN_PATH)"
   ]
  },
  {
   "cell_type": "code",
   "execution_count": 10,
   "metadata": {},
   "outputs": [
    {
     "name": "stdout",
     "output_type": "stream",
     "text": [
      "Average headline length: 76.44341801385681\n",
      "Average body length    : 423.891454965358\n"
     ]
    }
   ],
   "source": [
    "print(\"Average headline length:\", df['headline_text'].str.len().mean())\n",
    "print(\"Average body length    :\", df['body_text'].str.len().mean())"
   ]
  }
 ],
 "metadata": {
  "kernelspec": {
   "display_name": "Python 3",
   "language": "python",
   "name": "python3"
  },
  "language_info": {
   "codemirror_mode": {
    "name": "ipython",
    "version": 3
   },
   "file_extension": ".py",
   "mimetype": "text/x-python",
   "name": "python",
   "nbconvert_exporter": "python",
   "pygments_lexer": "ipython3",
   "version": "3.11.8"
  }
 },
 "nbformat": 4,
 "nbformat_minor": 2
}
