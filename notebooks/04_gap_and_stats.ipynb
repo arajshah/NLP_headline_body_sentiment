{
 "cells": [
  {
   "cell_type": "code",
   "execution_count": 26,
   "id": "bd19f18a",
   "metadata": {},
   "outputs": [
    {
     "name": "stdout",
     "output_type": "stream",
     "text": [
      "(1299, 8) Index(['id', 'headline', 'body_text', 'body_text_summary', 'headline_clean',\n",
      "       'body_clean', 'sent_head', 'sent_body'],\n",
      "      dtype='object')\n"
     ]
    }
   ],
   "source": [
    "import pandas as pd, numpy as np\n",
    "from scipy import stats\n",
    "\n",
    "df = pd.read_csv(\"../data/full_articles_with_sentiment.csv\")\n",
    "print(df.shape, df.columns[:8])\n"
   ]
  },
  {
   "cell_type": "code",
   "execution_count": 27,
   "id": "b614092e",
   "metadata": {},
   "outputs": [],
   "source": [
    "for col in [\"sent_head\", \"sent_body\"]:\n",
    "    df[col] = pd.to_numeric(df[col], errors=\"coerce\")"
   ]
  },
  {
   "cell_type": "code",
   "execution_count": 28,
   "id": "13afcaa9",
   "metadata": {},
   "outputs": [
    {
     "name": "stdout",
     "output_type": "stream",
     "text": [
      "count    1299.000000\n",
      "mean       -0.190442\n",
      "std         0.356281\n",
      "min        -1.599326\n",
      "25%        -0.415766\n",
      "50%        -0.188103\n",
      "75%         0.027984\n",
      "max         1.224850\n",
      "Name: sent_gap, dtype: float64\n"
     ]
    }
   ],
   "source": [
    "df[\"sent_gap\"] = df[\"sent_head\"] - df[\"sent_body\"]\n",
    "gap_desc = df[\"sent_gap\"].describe()\n",
    "print(gap_desc)"
   ]
  },
  {
   "cell_type": "code",
   "execution_count": 29,
   "id": "ea8ff4f5",
   "metadata": {},
   "outputs": [
    {
     "name": "stdout",
     "output_type": "stream",
     "text": [
      "Headline more NEGATIVE than body: 72.4%\n",
      "Headline more POSITIVE than body: 27.6%\n",
      "Exact tie:                       0.0%\n"
     ]
    }
   ],
   "source": [
    "more_neg = (df[\"sent_gap\"] < 0).mean() * 100\n",
    "more_pos = (df[\"sent_gap\"] > 0).mean() * 100\n",
    "same     = (df[\"sent_gap\"] == 0).mean() * 100\n",
    "\n",
    "print(f\"Headline more NEGATIVE than body: {more_neg:.1f}%\")\n",
    "print(f\"Headline more POSITIVE than body: {more_pos:.1f}%\")\n",
    "print(f\"Exact tie:                       {same:.1f}%\")\n"
   ]
  },
  {
   "cell_type": "code",
   "execution_count": 30,
   "id": "5cbf2d1a",
   "metadata": {},
   "outputs": [
    {
     "name": "stdout",
     "output_type": "stream",
     "text": [
      "t‑test p‑value:       6.12e-73\n",
      "Wilcoxon p‑value:     2.67e-71\n"
     ]
    }
   ],
   "source": [
    "t_stat, t_p  = stats.ttest_1samp(df[\"sent_gap\"], 0)\n",
    "w_stat, w_p  = stats.wilcoxon(df[\"sent_gap\"])\n",
    "\n",
    "print(f\"t‑test p‑value:       {t_p:.3g}\")\n",
    "print(f\"Wilcoxon p‑value:     {w_p:.3g}\")"
   ]
  },
  {
   "cell_type": "code",
   "execution_count": 31,
   "id": "08f08bdf",
   "metadata": {},
   "outputs": [
    {
     "name": "stdout",
     "output_type": "stream",
     "text": [
      "\n",
      "=== Most NEGATIVE headlines relative to body ===\n",
      "--------------------------------------------------------------------------------\n",
      "Headline: Roseanne Barr slammed for tweet calling out 'racist anti-Semitic bigotry' after synagogue shooting\n",
      "Body ⬇︎\n",
      "in the meantime, we welcome your feedback to help us enhance the experience. our goal is to create a safe and engaging place for users to connect over interests and passions. in order to improve our community experience, we are temporarily suspending the article …\n",
      "Gap = -1.599\n",
      "--------------------------------------------------------------------------------\n",
      "Headline: A Republican Governor Shoots Himself in the Foot\n",
      "Body ⬇︎\n",
      "the first state to recognize same-sex civil unions and the first to experiment with a single-payer health-care system. two vermont politicians. wells, vt. for a small state, vermont has a way of getting noticed. it's the first time that a single-payer health care system has been recognized in recent years …\n",
      "Gap = -1.507\n",
      "--------------------------------------------------------------------------------\n",
      "Headline: Donald Trump Is a 'Coward' for Leaving D.C. During Gun Protest Says Gregg Popovich\n",
      "Body ⬇︎\n",
      "san antonio spurs head coach gregg popovich praised the students for tackling an issue that politicians have ignored for far too long. popovich's new dinosaur species that lived 252 million years ago has made the headlines for his stance over race and political issues in the u.s. earlier this year …\n",
      "Gap = -1.500\n",
      "\n",
      "=== Most POSITIVE headlines relative to body ===\n",
      "--------------------------------------------------------------------------------\n",
      "Headline: Las Vegas shooting victims honored in emotional anniversary ceremony: 'Our 58 angels are with us'\n",
      "Body ⬇︎\n",
      "Trump's trade war heats up as Europe rejects U.S. poultry standards\n",
      "Internal Trump admin. document reveals massive budget cut proposal for federal health agencies\n",
      "California store manager says homeless customer won $1M scratcher: 'He deserves every penny'\n",
      "The 1st bit of 'hard' tariff data just arrived but not in the way you may have expected\n",
      "White House to use 30,000 real eggs for Easter event in  …\n",
      "Gap = 1.225\n",
      "--------------------------------------------------------------------------------\n",
      "Headline: Oak Park Township voters overwhelmingly support firearm storage referendum\n",
      "Body ⬇︎\n",
      "the state already requires safe storage. this is an open-ended question that can lead to other things that would be much more nefarious. it's an excuse for something else. . the open-ended question can be used as an excuse …\n",
      "Gap = 1.090\n",
      "--------------------------------------------------------------------------------\n",
      "Headline: Gaming community honors Jacksonville shooting victims on social media: 'Champions forever'\n",
      "Body ⬇︎\n",
      "Gunman in university shooting is son of Fla. sheriff's deputy, police say\n",
      "Trump's trade war heats up as Europe rejects U.S. poultry standards\n",
      "Internal Trump admin. document reveals massive budget cut proposal for federal health agencies\n",
      "California store manager says homeless customer won $1M scratcher: 'He deserves every penny'\n",
      "The 1st bit of 'hard' tariff data just arrived but not in the way you  …\n",
      "Gap = 1.087\n"
     ]
    }
   ],
   "source": [
    "TOP_N = 3  # change if you want more\n",
    "\n",
    "print(\"\\n=== Most NEGATIVE headlines relative to body ===\")\n",
    "for _, row in df.nsmallest(TOP_N, \"sent_gap\").iterrows():\n",
    "    print(\"-\" * 80)\n",
    "    print(\"Headline:\", row[\"headline\"])\n",
    "    print(\"Body ⬇︎\"); print(row[\"body_text\"][:400], \"…\")\n",
    "    print(f\"Gap = {row['sent_gap']:.3f}\")\n",
    "\n",
    "print(\"\\n=== Most POSITIVE headlines relative to body ===\")\n",
    "for _, row in df.nlargest(TOP_N, \"sent_gap\").iterrows():\n",
    "    print(\"-\" * 80)\n",
    "    print(\"Headline:\", row[\"headline\"])\n",
    "    print(\"Body ⬇︎\"); print(row[\"body_text\"][:400], \"…\")\n",
    "    print(f\"Gap = {row['sent_gap']:.3f}\")\n"
   ]
  },
  {
   "cell_type": "code",
   "execution_count": 32,
   "id": "c5fc2758",
   "metadata": {},
   "outputs": [
    {
     "name": "stdout",
     "output_type": "stream",
     "text": [
      "Saved with gap column → ../data/full_articles_with_gap.csv\n"
     ]
    }
   ],
   "source": [
    "OUT = \"../data/full_articles_with_gap.csv\"\n",
    "df.to_csv(OUT, index=False)\n",
    "print(\"Saved with gap column →\", OUT)"
   ]
  }
 ],
 "metadata": {
  "kernelspec": {
   "display_name": "venv",
   "language": "python",
   "name": "python3"
  },
  "language_info": {
   "codemirror_mode": {
    "name": "ipython",
    "version": 3
   },
   "file_extension": ".py",
   "mimetype": "text/x-python",
   "name": "python",
   "nbconvert_exporter": "python",
   "pygments_lexer": "ipython3",
   "version": "3.11.8"
  }
 },
 "nbformat": 4,
 "nbformat_minor": 5
}
