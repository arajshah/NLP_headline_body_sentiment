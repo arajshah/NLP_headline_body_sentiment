{
 "cells": [
  {
   "cell_type": "code",
   "execution_count": null,
   "id": "bd19f18a",
   "metadata": {},
   "outputs": [
    {
     "name": "stdout",
     "output_type": "stream",
     "text": [
      "(1299, 11) Index(['id', 'url', 'headline_text', 'body_text', 'Q2 Focus', 'Q3 Theme1',\n",
      "       'Q3 Theme2', 'headline_clean'],\n",
      "      dtype='object')\n"
     ]
    }
   ],
   "source": [
    "import pandas as pd, numpy as np\n",
    "from scipy import stats\n",
    "\n",
    "df = pd.read_csv(\"../data/full_articles_with_sentiment.csv\")\n",
    "print(df.shape, df.columns[:8])\n"
   ]
  },
  {
   "cell_type": "code",
   "execution_count": 3,
   "id": "b614092e",
   "metadata": {},
   "outputs": [],
   "source": [
    "for col in [\"sent_head\", \"sent_body\"]:\n",
    "    df[col] = pd.to_numeric(df[col], errors=\"coerce\")"
   ]
  },
  {
   "cell_type": "code",
   "execution_count": 5,
   "id": "13afcaa9",
   "metadata": {},
   "outputs": [
    {
     "name": "stdout",
     "output_type": "stream",
     "text": [
      "count    1299.000000\n",
      "mean       -0.143557\n",
      "std         0.432373\n",
      "min        -1.859123\n",
      "25%        -0.400784\n",
      "50%        -0.109622\n",
      "75%         0.096962\n",
      "max         1.517315\n",
      "Name: sent_gap, dtype: float64\n"
     ]
    }
   ],
   "source": [
    "df[\"sent_gap\"] = df[\"sent_head\"] - df[\"sent_body\"]\n",
    "gap_desc = df[\"sent_gap\"].describe()\n",
    "print(gap_desc)"
   ]
  },
  {
   "cell_type": "code",
   "execution_count": 6,
   "id": "ea8ff4f5",
   "metadata": {},
   "outputs": [
    {
     "name": "stdout",
     "output_type": "stream",
     "text": [
      "Headline more NEGATIVE than body: 64.1%\n",
      "Headline more POSITIVE than body: 35.9%\n",
      "Exact tie:                       0.0%\n"
     ]
    }
   ],
   "source": [
    "more_neg = (df[\"sent_gap\"] < 0).mean() * 100\n",
    "more_pos = (df[\"sent_gap\"] > 0).mean() * 100\n",
    "same     = (df[\"sent_gap\"] == 0).mean() * 100\n",
    "\n",
    "print(f\"Headline more NEGATIVE than body: {more_neg:.1f}%\")\n",
    "print(f\"Headline more POSITIVE than body: {more_pos:.1f}%\")\n",
    "print(f\"Exact tie:                       {same:.1f}%\")\n"
   ]
  },
  {
   "cell_type": "code",
   "execution_count": 7,
   "id": "5cbf2d1a",
   "metadata": {},
   "outputs": [
    {
     "name": "stdout",
     "output_type": "stream",
     "text": [
      "t‑test p‑value:       2.22e-31\n",
      "Wilcoxon p‑value:     4.39e-31\n"
     ]
    }
   ],
   "source": [
    "t_stat, t_p  = stats.ttest_1samp(df[\"sent_gap\"], 0)\n",
    "w_stat, w_p  = stats.wilcoxon(df[\"sent_gap\"])\n",
    "\n",
    "print(f\"t‑test p‑value:       {t_p:.3g}\")\n",
    "print(f\"Wilcoxon p‑value:     {w_p:.3g}\")"
   ]
  },
  {
   "cell_type": "code",
   "execution_count": 8,
   "id": "08f08bdf",
   "metadata": {},
   "outputs": [
    {
     "name": "stdout",
     "output_type": "stream",
     "text": [
      "\n",
      "=== Most NEGATIVE headlines relative to body ===\n",
      "--------------------------------------------------------------------------------\n",
      "Headline: One Big Loser on Black Friday? Gun Sales\n",
      "Body ⬇︎\n",
      "the black friday holiday shopping weekend is one of the best since the recession, possibly rivaling the boom days of the mid 2000s. the most products ordered worldwide than any other day. amazon customers ordered more than 18 million toys and 13 million fashion items on black friday and cyber monday combined …\n",
      "Gap = -1.859\n",
      "--------------------------------------------------------------------------------\n",
      "Headline: NRA supporters are blowing up Yeti coolers. Yeti says it's all a big mistake.\n",
      "Body ⬇︎\n",
      "yeti is unwavering in our belief in and commitment to the constitution of the united states and its second amendment. yeti founded more than 10 years ago with a passion for the outdoors, and over the course of our history we have actively and supported hunters, anglers and the broader outdoor community …\n",
      "Gap = -1.678\n",
      "--------------------------------------------------------------------------------\n",
      "Headline: You should feel unsettled': Gun-control statues aim to evoke students' terror during lockdowns\n",
      "Body ⬇︎\n",
      "\"i know my son was a cool dude, and i know he would think this statue is a really powerful way to get our message across the world. it's a more powerful way than trying to talk them into it, and it's not known what art stops people, makes them think …\n",
      "Gap = -1.651\n",
      "\n",
      "=== Most POSITIVE headlines relative to body ===\n",
      "--------------------------------------------------------------------------------\n",
      "Headline: Burt Bacharach is supporting school gun violence survivors with new song 'Live to See Another Day'\n",
      "Body ⬇︎\n",
      "the country's first name on stage has been broken. it's been broken, and they have no infrastructure and no water,. when the country is in the u.s., it's disrespectful to u.s. citizens …\n",
      "Gap = 1.517\n",
      "--------------------------------------------------------------------------------\n",
      "Headline: Gaming community honors Jacksonville shooting victims on social media: 'Champions forever'\n",
      "Body ⬇︎\n",
      "a gunman killed two people and injured 11 others in the nfl tournament. the shooter then killed himself, authorities say. clayton was 22-years old and from california. robertson, 27, was a husband. jacksonville sheriff's office has not yet identified either victims …\n",
      "Gap = 1.371\n",
      "--------------------------------------------------------------------------------\n",
      "Headline: Oak Park Township voters overwhelmingly support firearm storage referendum\n",
      "Body ⬇︎\n",
      "the state already requires safe storage. this is an open-ended question that can lead to other things that would be much more nefarious. it's an excuse for something else. . the open-ended question can be used as an excuse …\n",
      "Gap = 1.090\n"
     ]
    }
   ],
   "source": [
    "TOP_N = 3  # change if you want more\n",
    "\n",
    "print(\"\\n=== Most NEGATIVE headlines relative to body ===\")\n",
    "for _, row in df.nsmallest(TOP_N, \"sent_gap\").iterrows():\n",
    "    print(\"-\" * 80)\n",
    "    print(\"Headline:\", row[\"headline_text\"])\n",
    "    print(\"Body ⬇︎\"); print(row[\"body_text\"][:400], \"…\")\n",
    "    print(f\"Gap = {row['sent_gap']:.3f}\")\n",
    "\n",
    "print(\"\\n=== Most POSITIVE headlines relative to body ===\")\n",
    "for _, row in df.nlargest(TOP_N, \"sent_gap\").iterrows():\n",
    "    print(\"-\" * 80)\n",
    "    print(\"Headline:\", row[\"headline_text\"])\n",
    "    print(\"Body ⬇︎\"); print(row[\"body_text\"][:400], \"…\")\n",
    "    print(f\"Gap = {row['sent_gap']:.3f}\")\n"
   ]
  },
  {
   "cell_type": "code",
   "execution_count": null,
   "id": "c5fc2758",
   "metadata": {},
   "outputs": [
    {
     "name": "stdout",
     "output_type": "stream",
     "text": [
      "Saved with gap column → ../data/gvfc_with_gap.csv\n"
     ]
    }
   ],
   "source": [
    "OUT = \"../data/full_articles_with_gap.csv.csv\"\n",
    "df.to_csv(OUT, index=False)\n",
    "print(\"Saved with gap column →\", OUT)"
   ]
  }
 ],
 "metadata": {
  "kernelspec": {
   "display_name": "venv",
   "language": "python",
   "name": "python3"
  },
  "language_info": {
   "codemirror_mode": {
    "name": "ipython",
    "version": 3
   },
   "file_extension": ".py",
   "mimetype": "text/x-python",
   "name": "python",
   "nbconvert_exporter": "python",
   "pygments_lexer": "ipython3",
   "version": "3.11.8"
  }
 },
 "nbformat": 4,
 "nbformat_minor": 5
}
