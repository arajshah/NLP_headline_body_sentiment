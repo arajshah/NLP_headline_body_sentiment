{
 "cells": [
  {
   "cell_type": "code",
   "execution_count": 1,
   "id": "bb566f73",
   "metadata": {},
   "outputs": [],
   "source": [
    "import pandas as pd, numpy as np, matplotlib.pyplot as plt, seaborn as sns, re\n",
    "from pathlib import Path\n",
    "from scipy.stats import spearmanr"
   ]
  },
  {
   "cell_type": "code",
   "execution_count": null,
   "id": "6d7045c2",
   "metadata": {},
   "outputs": [],
   "source": [
    "# 1. Load article data with sentiment gap\n",
    "ART_PATH  = \"../data/full_articles_with_gap.csv\"\n",
    "df = pd.read_csv(ART_PATH)"
   ]
  }
 ],
 "metadata": {
  "kernelspec": {
   "display_name": "venv",
   "language": "python",
   "name": "python3"
  },
  "language_info": {
   "codemirror_mode": {
    "name": "ipython",
    "version": 3
   },
   "file_extension": ".py",
   "mimetype": "text/x-python",
   "name": "python",
   "nbconvert_exporter": "python",
   "pygments_lexer": "ipython3",
   "version": "3.11.8"
  }
 },
 "nbformat": 4,
 "nbformat_minor": 5
}
