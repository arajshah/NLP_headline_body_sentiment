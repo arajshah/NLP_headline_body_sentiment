{
 "cells": [
  {
   "cell_type": "code",
   "execution_count": 2,
   "metadata": {},
   "outputs": [
    {
     "name": "stdout",
     "output_type": "stream",
     "text": [
      "(1299, 7)\n"
     ]
    }
   ],
   "source": [
    "import pandas as pd\n",
    "import re\n",
    "\n",
    "df = pd.read_csv(\"../data/clean_gvfc_sentiment.csv\")\n",
    "print(df.shape)\n"
   ]
  },
  {
   "cell_type": "code",
   "execution_count": 3,
   "metadata": {},
   "outputs": [],
   "source": [
    "URL_RE   = re.compile(r'https?://\\S+|www\\.\\S+')\n",
    "EMAIL_RE = re.compile(r'\\S+@\\S+')\n",
    "HTML_RE  = re.compile(r'&[a-z]+;')      # &amp; etc.\n",
    "\n",
    "def light_clean(text: str) -> str:\n",
    "    if not isinstance(text, str):\n",
    "        return \"\"\n",
    "    text = text.lower()                       # 1) lowercase\n",
    "    text = URL_RE.sub('', text)               # 2) drop URLs\n",
    "    text = EMAIL_RE.sub('', text)             # 3) drop e‑mails\n",
    "    text = HTML_RE.sub('', text)              # 4) drop stray HTML codes\n",
    "    text = re.sub(r'\\s+', ' ', text).strip()  # 5) collapse whitespace\n",
    "    return text\n"
   ]
  },
  {
   "cell_type": "code",
   "execution_count": 4,
   "metadata": {},
   "outputs": [],
   "source": [
    "df['headline_clean'] = df['headline_text'].apply(light_clean)\n",
    "df['body_clean']     = df['body_text'].apply(light_clean)\n"
   ]
  },
  {
   "cell_type": "code",
   "execution_count": 5,
   "metadata": {},
   "outputs": [
    {
     "name": "stdout",
     "output_type": "stream",
     "text": [
      "RAW HEADLINE → Cincinnati Reds to hold Moment of Silence for Fifth Third Center shooting victims\n",
      "CLEANED      → cincinnati reds to hold moment of silence for fifth third center shooting victims\n",
      "\n",
      "RAW BODY (first 160 chars) → the reds plan to honor victims of the mass shooting at great american ball parkagainst the san diego padres. the reds announced on thursday that they will honor\n",
      "CLEANED      → the reds plan to honor victims of the mass shooting at great american ball parkagainst the san diego padres. the reds announced on thursday that they will honor\n"
     ]
    }
   ],
   "source": [
    "pair = df.sample(1, random_state=42).iloc[0]\n",
    "print(\"RAW HEADLINE →\", pair['headline_text'])\n",
    "print(\"CLEANED      →\", pair['headline_clean'])\n",
    "print()\n",
    "print(\"RAW BODY (first 160 chars) →\", pair['body_text'][:160])\n",
    "print(\"CLEANED      →\", pair['body_clean'][:160])"
   ]
  },
  {
   "cell_type": "code",
   "execution_count": 6,
   "metadata": {},
   "outputs": [
    {
     "name": "stdout",
     "output_type": "stream",
     "text": [
      "Saved → ../data/clean_gvfc_sentiment_v2.csv\n"
     ]
    }
   ],
   "source": [
    "CLEAN_V2 = \"../data/clean_gvfc_sentiment_v2.csv\"\n",
    "df.to_csv(CLEAN_V2, index=False)\n",
    "print(\"Saved →\", CLEAN_V2)"
   ]
  }
 ],
 "metadata": {
  "kernelspec": {
   "display_name": "Python 3",
   "language": "python",
   "name": "python3"
  },
  "language_info": {
   "codemirror_mode": {
    "name": "ipython",
    "version": 3
   },
   "file_extension": ".py",
   "mimetype": "text/x-python",
   "name": "python",
   "nbconvert_exporter": "python",
   "pygments_lexer": "ipython3",
   "version": "3.11.8"
  }
 },
 "nbformat": 4,
 "nbformat_minor": 2
}
